{
  "nbformat": 4,
  "nbformat_minor": 0,
  "metadata": {
    "colab": {
      "provenance": []
    },
    "kernelspec": {
      "name": "python3",
      "display_name": "Python 3"
    },
    "language_info": {
      "name": "python"
    }
  },
  "cells": [
    {
      "cell_type": "markdown",
      "source": [
        "# Ai Studio Temel Python Eğitimi"
      ],
      "metadata": {
        "id": "KJNsEN5NTuHn"
      }
    },
    {
      "cell_type": "markdown",
      "source": [
        "### COLAB Çalışma Ortamı"
      ],
      "metadata": {
        "id": "8lxfopm5UEG8"
      }
    },
    {
      "cell_type": "markdown",
      "source": [
        "![image.png](data:image/png;base64,iVBORw0KGgoAAAANSUhEUgAAASwAAAEsCAYAAAB5fY51AAAAAXNSR0IArs4c6QAABtVJREFUeJzt3Utu5DgQQMGqQd3/ypqVtwaNJlj5pIh1w6Y+fs1Fgnpf13W9AAI+r9fr9X6/v72Or9nV65V7ePL/hpPPdOW6dt2faT9nxck139XP/fnvy+sAWCZYQIZgARmCBWQIFpAhWECGYAEZggVkfFb/YXEgftegXXHIcJdpw5y7PPl5TfOX526HBWQIFpAhWECGYAEZggVkCBaQIVhAhmABGcuDoyuKg3+7FAcIV9Z81+s6Ocg67R6W/07tsIAMwQIyBAvIECwgQ7CADMECMgQLyBAsIGPr4OiTTRv827WeaUOhJ01bD3ZYQIhgARmCBWQIFpAhWECGYAEZggVkCBaQYXB0wbTPmp88MXKX4imX004KxQ4LCBEsIEOwgAzBAjIEC8gQLCBDsIAMwQIytg6O3nWIbtcAYfFU0l0Dn8WB2Gn3Z5fy36kdFpAhWECGYAEZggVkCBaQIVhAhmABGYIFZCwPjk4b6iua9on5acOlK6Zd17T7c/e/UzssIEOwgAzBAjIEC8gQLCBDsIAMwQIyBAvIeF/l4wdjpn36fNqQ4clPzK+464mjZXZYQIZgARmCBWQIFpAhWECGYAEZggVkCBaQsTw4WhyQOzmoWRwKLV77tPu8Ytog67RTUv/yvOywgAzBAjIEC8gQLCBDsIAMwQIyBAvIECwg431d1zXt5Mldpg3IrTg5HLhi6gDhb5685mkDurvfVTssIEOwgAzBAjIEC8gQLCBDsIAMwQIyBAvI+LxezWGzFcXTKVc8eVhxxZOHb0/6xnXZYQEZggVkCBaQIVhAhmABGYIFZAgWkCFYQMbn9Zo3QFgc5lxRPAmT3xWHpVdMW/PPeuywgAzBAjIEC8gQLCBDsIAMwQIyBAvIECwg431tnDCcNhg5baiP3xVP+Jz2/tx9YNgOC8gQLCBDsIAMwQIyBAvIECwgQ7CADMECMo6fOHryE+HT1rPirs9i5XcZ0P13057pLk4cBXIEC8gQLCBDsIAMwQIyBAvIECwgQ7CAjOUTR6cNNJ50cs13vT8rpl3XiuK1T1vzX9ZjhwVkCBaQIVhAhmABGYIFZAgWkCFYQIZgARlbP1XPGbtOlXzyoOaK4mm0xaHQv1yXHRaQIVhAhmABGYIFZAgWkCFYQIZgARmCBWQc/1T9irsORk77fPxJJ59XccByRfHk293Pwg4LyBAsIEOwgAzBAjIEC8gQLCBDsIAMwQIyPqv/8OTQ466hvuKgnYHGOaadJjrt/fnG77LDAjIEC8gQLCBDsIAMwQIyBAvIECwgQ7CAjOXB0eJJmFOH3/7150xz13djl2kDqCumPa8fdlhAhmABGYIFZAgWkCFYQIZgARmCBWQIFpCx9cTRk6YNhe5SvM9FxXdjRfG6fKoeuCXBAjIEC8gQLCBDsIAMwQIyBAvIECwgY3lwdJeTA2nTPkNfPJlzxV1PUl2x63mdfMd2+ca7aocFZAgWkCFYQIZgARmCBWQIFpAhWECGYAEZ72vgpOK0z23fdRhv2nXtGqyd9v6smPYsTvrLc7fDAjIEC8gQLCBDsIAMwQIyBAvIECwgQ7CAjOODo9NOAS0Ol64oDmqeVLw/09b8jb9BOywgQ7CADMECMgQLyBAsIEOwgAzBAjIEC8h4X9d1Pfm0w12Kp1zuMm0wkhaDo8AtCRaQIVhAhmABGYIFZAgWkCFYQIZgARmf1X847WTOaSeOTht6LF77tOFbQ6q/+8Y7b4cFZAgWkCFYQIZgARmCBWQIFpAhWECGYAEZxz9Vz787ORRaHJ6c9kqffF4rpr0/ThwFbkmwgAzBAjIEC8gQLCBDsIAMwQIyBAvI+LxezeHAXYoDlsU17/Lka3/yAOoPOywgQ7CADMECMgQLyBAsIEOwgAzBAjIEC8g4/qn6k4rDgSumfdJ9l7s+r12mDYXu+jlOHAVuSbCADMECMgQLyBAsIEOwgAzBAjIEC8hYHhxdUTx1c5eV9ewaopv2qfGTdl37tPsz7T6fvD9/eaZ2WECGYAEZggVkCBaQIVhAhmABGYIFZAgWkLF1cPTJigOETx5WXLFrPcWh4mkDuj/ssIAMwQIyBAvIECwgQ7CADMECMgQLyBAsIMPg6IJpg4grikOhJ09SXXFyPdOua9fP2f3c7bCADMECMgQLyBAsIEOwgAzBAjIEC8gQLCBj6+DotM/HnzTtNMgVTx5W3PW7pg27Ft+fv/wcOywgQ7CADMECMgQLyBAsIEOwgAzBAjIEC8hYHhyddoLlSSeH8aYN9Z1UHGSddpLqtOHk3dduhwVkCBaQIVhAhmABGYIFZAgWkCFYQIZgARnvqzhhCDySHRaQ8T8ALthm6Tw1RQAAAABJRU5ErkJggg==)\n",
        "\n",
        "\n"
      ],
      "metadata": {
        "id": "Z_I9Z2UFTv1a"
      }
    },
    {
      "cell_type": "markdown",
      "source": [
        "## Eğitim Programımız\n",
        "\n",
        "\n",
        "*   1- Temel Veri Tipleri\n",
        "*   2- Aritmetik İşlemler\n",
        "\n",
        "*   3- Liste\n",
        "\n",
        "*   4- Tuple\n",
        "\n",
        "*   5- Set\n",
        "\n",
        "*   6- Sözlük\n",
        "*   7- String ve String Operasyonları\n",
        "\n",
        "\n",
        "*   8- Karşılaştırma Operatörleri ve Koşul İfadeleri\n",
        "\n",
        "\n",
        "*   9- Döngüler\n",
        "\n",
        "\n",
        "*   Uygulamalar\n",
        "\n",
        "\n",
        "\n"
      ],
      "metadata": {
        "id": "LYHcEAjPULNp"
      }
    },
    {
      "cell_type": "code",
      "source": [
        "#@title\n",
        "import pandas as pd"
      ],
      "metadata": {
        "id": "p-wplR7DTvFR"
      },
      "execution_count": null,
      "outputs": []
    },
    {
      "cell_type": "markdown",
      "source": [
        "# 1) Temel Veri Tipleri"
      ],
      "metadata": {
        "id": "yHpxjWQ2ZBln"
      }
    },
    {
      "cell_type": "code",
      "source": [
        "#@title Yerleşik Veri Türleri\n",
        "data = [\"Text Type: \",\"Numeric Types: \",\"Sequence Types: \",\"Mapping Type: \",\"Set Type: \", \"Boolean Type: \", \"Binary Types: \", \"None Type: \"]\n",
        "types = [\"str\", \"int, float, complex\", \"list, tuple, range\", \"dict\", \"set, frozenset\", \"bool\",\"bytes, bytearray, memoryview\", \"NoneType\"]\n",
        "#for i in data:\n",
        "#  types.append(type(i))\n",
        "#types\n",
        "table = pd.DataFrame({\"\": data, \" \": types} )\n",
        "table.style.hide_index()"
      ],
      "metadata": {
        "id": "YjuL_uewTvIW",
        "colab": {
          "base_uri": "https://localhost:8080/",
          "height": 283
        },
        "outputId": "0c43ce5f-e855-4b30-b18c-e18e58b42300"
      },
      "execution_count": null,
      "outputs": [
        {
          "output_type": "execute_result",
          "data": {
            "text/plain": [
              "<pandas.io.formats.style.Styler at 0x7f8a000bef10>"
            ],
            "text/html": [
              "<style type=\"text/css\">\n",
              "</style>\n",
              "<table id=\"T_23ad7_\" class=\"dataframe\">\n",
              "  <thead>\n",
              "    <tr>\n",
              "      <th class=\"col_heading level0 col0\" ></th>\n",
              "      <th class=\"col_heading level0 col1\" > </th>\n",
              "    </tr>\n",
              "  </thead>\n",
              "  <tbody>\n",
              "    <tr>\n",
              "      <td id=\"T_23ad7_row0_col0\" class=\"data row0 col0\" >Text Type: </td>\n",
              "      <td id=\"T_23ad7_row0_col1\" class=\"data row0 col1\" >str</td>\n",
              "    </tr>\n",
              "    <tr>\n",
              "      <td id=\"T_23ad7_row1_col0\" class=\"data row1 col0\" >Numeric Types: </td>\n",
              "      <td id=\"T_23ad7_row1_col1\" class=\"data row1 col1\" >int, float, complex</td>\n",
              "    </tr>\n",
              "    <tr>\n",
              "      <td id=\"T_23ad7_row2_col0\" class=\"data row2 col0\" >Sequence Types: </td>\n",
              "      <td id=\"T_23ad7_row2_col1\" class=\"data row2 col1\" >list, tuple, range</td>\n",
              "    </tr>\n",
              "    <tr>\n",
              "      <td id=\"T_23ad7_row3_col0\" class=\"data row3 col0\" >Mapping Type: </td>\n",
              "      <td id=\"T_23ad7_row3_col1\" class=\"data row3 col1\" >dict</td>\n",
              "    </tr>\n",
              "    <tr>\n",
              "      <td id=\"T_23ad7_row4_col0\" class=\"data row4 col0\" >Set Type: </td>\n",
              "      <td id=\"T_23ad7_row4_col1\" class=\"data row4 col1\" >set, frozenset</td>\n",
              "    </tr>\n",
              "    <tr>\n",
              "      <td id=\"T_23ad7_row5_col0\" class=\"data row5 col0\" >Boolean Type: </td>\n",
              "      <td id=\"T_23ad7_row5_col1\" class=\"data row5 col1\" >bool</td>\n",
              "    </tr>\n",
              "    <tr>\n",
              "      <td id=\"T_23ad7_row6_col0\" class=\"data row6 col0\" >Binary Types: </td>\n",
              "      <td id=\"T_23ad7_row6_col1\" class=\"data row6 col1\" >bytes, bytearray, memoryview</td>\n",
              "    </tr>\n",
              "    <tr>\n",
              "      <td id=\"T_23ad7_row7_col0\" class=\"data row7 col0\" >None Type: </td>\n",
              "      <td id=\"T_23ad7_row7_col1\" class=\"data row7 col1\" >NoneType</td>\n",
              "    </tr>\n",
              "  </tbody>\n",
              "</table>\n"
            ]
          },
          "metadata": {},
          "execution_count": 2
        }
      ]
    },
    {
      "cell_type": "code",
      "source": [
        "#@title Veri Türlerine Göre Örnekler\n",
        "data = ['\"Hello World\"',\n",
        "        10,\n",
        "        10.40,\n",
        "        [\"Hello\",10,10.40],\n",
        "        (\"Hello\",10,10.40),\n",
        "        {\"fruit\":\"banana\",\"flies\":False},\n",
        "        {\"Hello\",10,10.40},\n",
        "        \"True,False,0,1\",\n",
        "        \"None\"]\n",
        "types = [\"str\", \"int\", \"float\", \"list\", \"tuple\", \"dict\", \"set\", \"bool\", \"NoneType\"]\n",
        "#for i in data:\n",
        "#  types.append(type(i))\n",
        "types\n",
        "import pandas as pd\n",
        "table = pd.DataFrame({\"Example\" : data, \"Data Type\": types} )\n",
        "table.style.hide_index()"
      ],
      "metadata": {
        "id": "Qsp7djhsTvMA"
      },
      "execution_count": null,
      "outputs": []
    },
    {
      "cell_type": "markdown",
      "source": [
        "\n",
        "\n",
        "> **Bazı yazılım dillerinde değişken tanımlayacağımız zaman veri türünü önceden belirtmemiz gerekir ancak Python programlama dilinde vei tipi ile ilgili öncül bir bilgiye gerek yoktur.**\n",
        "\n"
      ],
      "metadata": {
        "id": "ne_xMoz-ZcC_"
      }
    },
    {
      "cell_type": "code",
      "source": [
        "x = 5             #int\n",
        "y = 10.0          #float\n",
        "z = \"Hello World\" #str"
      ],
      "metadata": {
        "id": "iBj7qP3dTvPO"
      },
      "execution_count": null,
      "outputs": []
    },
    {
      "cell_type": "markdown",
      "source": [
        "\n",
        "\n",
        "> **Bir kod yazdığımızda sonucunu görmek için *print()* fonksiyonunu kullanmamız gerekir.**\n",
        "\n"
      ],
      "metadata": {
        "id": "Py2sKSfvZ8LO"
      }
    },
    {
      "cell_type": "code",
      "source": [
        "print('AI Studio Python Eğitimine Hoşgeldiniz !')"
      ],
      "metadata": {
        "colab": {
          "base_uri": "https://localhost:8080/"
        },
        "id": "Iphz4b9nairH",
        "outputId": "7237644a-1249-4527-9977-edab9eac176e"
      },
      "execution_count": null,
      "outputs": [
        {
          "output_type": "stream",
          "name": "stdout",
          "text": [
            "AI Studio Python Eğitimine Hoşgeldiniz !\n"
          ]
        }
      ]
    },
    {
      "cell_type": "markdown",
      "source": [
        "\n",
        "\n",
        "> **Veri tipini bilmediğimiz ya da incelemek istediğimizde *type()* fonksiyonu kullanılır.**\n",
        "\n"
      ],
      "metadata": {
        "id": "lcvoKXacaSUA"
      }
    },
    {
      "cell_type": "code",
      "source": [
        "print(\"x'in türü: \", type(x))\n",
        "print(\"y'nin türü: \", type(y))\n",
        "print(\"z'nin türü: \", type(z))"
      ],
      "metadata": {
        "id": "pMQRGTziTvRm",
        "colab": {
          "base_uri": "https://localhost:8080/"
        },
        "outputId": "721dd5b5-847b-421a-8e02-715e6ddf5c5e"
      },
      "execution_count": null,
      "outputs": [
        {
          "output_type": "stream",
          "name": "stdout",
          "text": [
            "x'in türü:  <class 'int'>\n",
            "y'nin türü:  <class 'float'>\n",
            "z'nin türü:  <class 'str'>\n"
          ]
        }
      ]
    },
    {
      "cell_type": "markdown",
      "source": [
        "\n",
        "\n",
        "> **Tanımladığımız değişkenlerin türlerini sonrasında değiştirebiliriz.**\n",
        "\n"
      ],
      "metadata": {
        "id": "QVpg4olda593"
      }
    },
    {
      "cell_type": "code",
      "source": [
        "x_str = str(x)      #turn integer 5 into string \"5\"\n",
        "w_float = float(x)  #turns integer 5 into floating number 5.0\n",
        "y_int = int(y)      #turn floating number 10.0 into integer 10\n",
        "z_list = list(z)    #turn string \"Hello World\" into the list of characters."
      ],
      "metadata": {
        "id": "HpMh4kMaawSM"
      },
      "execution_count": null,
      "outputs": []
    },
    {
      "cell_type": "code",
      "source": [
        "print(\"x'in türü: \", type(x_str))\n",
        "print(\"w'nun türü: \", type(w_float))\n",
        "print(\"y'nin türü: \", type(y_int))\n",
        "print(\"z'nin türü: \", type(z_list))"
      ],
      "metadata": {
        "colab": {
          "base_uri": "https://localhost:8080/"
        },
        "id": "cp_xj8rjbH-K",
        "outputId": "912dddfb-befc-4a7b-cf56-ea63b26940b3"
      },
      "execution_count": null,
      "outputs": [
        {
          "output_type": "stream",
          "name": "stdout",
          "text": [
            "x'in türü:  <class 'str'>\n",
            "w'nun türü:  <class 'float'>\n",
            "y'nin türü:  <class 'int'>\n",
            "z'nin türü:  <class 'list'>\n"
          ]
        }
      ]
    },
    {
      "cell_type": "markdown",
      "source": [
        "\n",
        "\n",
        "> Aynı andan birden fazla değişken ataması yapabiliriz.\n",
        "\n"
      ],
      "metadata": {
        "id": "hYMHNGCibsF0"
      }
    },
    {
      "cell_type": "code",
      "source": [
        "a,b,c=2,10.5,'Pyhthon'"
      ],
      "metadata": {
        "id": "OZuJFqvPbKnO"
      },
      "execution_count": null,
      "outputs": []
    },
    {
      "cell_type": "code",
      "source": [
        "print(a)\n",
        "print(b)\n",
        "print(c)"
      ],
      "metadata": {
        "colab": {
          "base_uri": "https://localhost:8080/"
        },
        "id": "l3vbA3ORb8yg",
        "outputId": "241f60ea-a073-4011-d932-2f0d8c0dc0c5"
      },
      "execution_count": null,
      "outputs": [
        {
          "output_type": "stream",
          "name": "stdout",
          "text": [
            "2\n",
            "10.5\n",
            "Pyhthon\n"
          ]
        }
      ]
    },
    {
      "cell_type": "markdown",
      "source": [
        "# 2) Aritmetik İşlemler\n",
        "\n",
        "\n",
        "\n",
        "\n",
        "*   Toplama (+)\n",
        "\n",
        "*   Çıkarma (-)\n",
        "*   Çarpma (*)\n",
        "\n",
        "\n",
        "*   Bölme (/)\n",
        "\n",
        "\n",
        "*   Mod Operasyonu (%)\n",
        "\n",
        "*   Üs Alma (**)\n",
        "\n",
        "\n",
        "\n",
        "\n"
      ],
      "metadata": {
        "id": "RLlhHqhQcKJV"
      }
    },
    {
      "cell_type": "markdown",
      "source": [
        "### Toplama"
      ],
      "metadata": {
        "id": "sOSFX-WOdKm4"
      }
    },
    {
      "cell_type": "code",
      "source": [
        "x=58\n",
        "y=15"
      ],
      "metadata": {
        "id": "nSP1mqI4cCLb"
      },
      "execution_count": null,
      "outputs": []
    },
    {
      "cell_type": "code",
      "source": [
        "print('Verilen iki sayının toplamı:',x+y)"
      ],
      "metadata": {
        "colab": {
          "base_uri": "https://localhost:8080/"
        },
        "id": "2tnf-XzhcwAj",
        "outputId": "3d17e441-822c-4798-ba1c-bb96720d1e96"
      },
      "execution_count": null,
      "outputs": [
        {
          "output_type": "stream",
          "name": "stdout",
          "text": [
            "Verilen iki sayının toplamı: 73\n"
          ]
        }
      ]
    },
    {
      "cell_type": "code",
      "source": [
        "toplam=x+y\n",
        "print('Verilen iki sayının toplamı:', toplam)"
      ],
      "metadata": {
        "colab": {
          "base_uri": "https://localhost:8080/"
        },
        "id": "PbyPr7cfcwC3",
        "outputId": "1be08ca9-154e-4c44-9f89-0cc5d8b10096"
      },
      "execution_count": null,
      "outputs": [
        {
          "output_type": "stream",
          "name": "stdout",
          "text": [
            "Verilen iki sayının toplamı: 73\n"
          ]
        }
      ]
    },
    {
      "cell_type": "markdown",
      "source": [
        "### Çıkarma"
      ],
      "metadata": {
        "id": "36PEP-zydk5I"
      }
    },
    {
      "cell_type": "code",
      "source": [
        "x=25\n",
        "y=10"
      ],
      "metadata": {
        "id": "25bdpIZ7cwEp"
      },
      "execution_count": null,
      "outputs": []
    },
    {
      "cell_type": "code",
      "source": [
        "print('Verilen iki sayının farkı:',x-y)"
      ],
      "metadata": {
        "colab": {
          "base_uri": "https://localhost:8080/"
        },
        "id": "xaEyUeOfcwGx",
        "outputId": "c365b101-b727-41e9-ceda-7fa74ea7e466"
      },
      "execution_count": null,
      "outputs": [
        {
          "output_type": "stream",
          "name": "stdout",
          "text": [
            "Verilen iki sayının farkı: 15\n"
          ]
        }
      ]
    },
    {
      "cell_type": "code",
      "source": [
        "fark=x-y\n",
        "print('Verilen iki sayının farkı:',fark)"
      ],
      "metadata": {
        "colab": {
          "base_uri": "https://localhost:8080/"
        },
        "id": "M1G2WyBacwIW",
        "outputId": "90194027-935a-481f-e881-122ac233e722"
      },
      "execution_count": null,
      "outputs": [
        {
          "output_type": "stream",
          "name": "stdout",
          "text": [
            "Verilen iki sayının farkı: 15\n"
          ]
        }
      ]
    },
    {
      "cell_type": "markdown",
      "source": [
        "### Çarpma"
      ],
      "metadata": {
        "id": "36CB2Vrhd8kW"
      }
    },
    {
      "cell_type": "code",
      "source": [
        "x=25\n",
        "y=10"
      ],
      "metadata": {
        "id": "BrrbubAlcwKI"
      },
      "execution_count": null,
      "outputs": []
    },
    {
      "cell_type": "code",
      "source": [
        "print('Verilen iki sayının çarpımı:',x*y)"
      ],
      "metadata": {
        "colab": {
          "base_uri": "https://localhost:8080/"
        },
        "id": "BORpP-VmcwMU",
        "outputId": "34665c6c-663d-4730-867e-cad94bf37200"
      },
      "execution_count": null,
      "outputs": [
        {
          "output_type": "stream",
          "name": "stdout",
          "text": [
            "Verilen iki sayının çarpımı: 250\n"
          ]
        }
      ]
    },
    {
      "cell_type": "markdown",
      "source": [
        "### Bölme"
      ],
      "metadata": {
        "id": "-Ex9sWdOeapK"
      }
    },
    {
      "cell_type": "code",
      "source": [
        "x=100\n",
        "y=26"
      ],
      "metadata": {
        "id": "Mh8Q3ZjncwN4"
      },
      "execution_count": null,
      "outputs": []
    },
    {
      "cell_type": "code",
      "source": [
        "print('Verilen iki sayının birbirine bölümü:',x/y)"
      ],
      "metadata": {
        "colab": {
          "base_uri": "https://localhost:8080/"
        },
        "id": "4W669BhRec29",
        "outputId": "bdf3b317-f1b5-41cd-8399-604d3cf375c2"
      },
      "execution_count": null,
      "outputs": [
        {
          "output_type": "stream",
          "name": "stdout",
          "text": [
            "Verilen iki sayının birbirine bölümü: 3.8461538461538463\n"
          ]
        }
      ]
    },
    {
      "cell_type": "code",
      "source": [
        "print('Verilen iki sayının birbirine bölümü:',int(x/y))"
      ],
      "metadata": {
        "colab": {
          "base_uri": "https://localhost:8080/"
        },
        "id": "o6aScDjQec5B",
        "outputId": "64c6f6ed-97eb-46e0-e610-a4fe03920649"
      },
      "execution_count": null,
      "outputs": [
        {
          "output_type": "stream",
          "name": "stdout",
          "text": [
            "Verilen iki sayının birbirine bölümü: 3\n"
          ]
        }
      ]
    },
    {
      "cell_type": "markdown",
      "source": [
        "### Mod Operasyonu"
      ],
      "metadata": {
        "id": "SRLT5itne643"
      }
    },
    {
      "cell_type": "code",
      "source": [
        "x=50\n",
        "y=2"
      ],
      "metadata": {
        "id": "yt1cuxv8ec6s"
      },
      "execution_count": null,
      "outputs": []
    },
    {
      "cell_type": "code",
      "source": [
        "print('Verilen Sayının Modu:',x%y)"
      ],
      "metadata": {
        "colab": {
          "base_uri": "https://localhost:8080/"
        },
        "id": "O8tL66tJec8x",
        "outputId": "15cc9d62-e5e8-4abb-8fd6-69f42b8f3649"
      },
      "execution_count": null,
      "outputs": [
        {
          "output_type": "stream",
          "name": "stdout",
          "text": [
            "Verilen Sayının Modu: 0\n"
          ]
        }
      ]
    },
    {
      "cell_type": "code",
      "source": [
        "x=15\n",
        "y=8\n",
        "print('Verilen Sayının Modu:',x%y)"
      ],
      "metadata": {
        "colab": {
          "base_uri": "https://localhost:8080/"
        },
        "id": "1oOuDfH5ec-g",
        "outputId": "df2e8527-d73f-4c91-8001-794f2983fa24"
      },
      "execution_count": null,
      "outputs": [
        {
          "output_type": "stream",
          "name": "stdout",
          "text": [
            "Verilen Sayının Modu: 7\n"
          ]
        }
      ]
    },
    {
      "cell_type": "markdown",
      "source": [
        "### Üs Alma"
      ],
      "metadata": {
        "id": "_QYL7s7zflAw"
      }
    },
    {
      "cell_type": "code",
      "source": [
        "x=5\n",
        "y=2"
      ],
      "metadata": {
        "id": "zVp800BaedAk"
      },
      "execution_count": null,
      "outputs": []
    },
    {
      "cell_type": "code",
      "source": [
        "print('Verilen Sayının Üssü:',x**y)"
      ],
      "metadata": {
        "colab": {
          "base_uri": "https://localhost:8080/"
        },
        "id": "BP1fFQQHedCe",
        "outputId": "7873b048-20f4-4815-f6ee-7b4c7b6e3339"
      },
      "execution_count": null,
      "outputs": [
        {
          "output_type": "stream",
          "name": "stdout",
          "text": [
            "Verilen Sayının Üssü: 25\n"
          ]
        }
      ]
    },
    {
      "cell_type": "code",
      "source": [
        "print(2**3)"
      ],
      "metadata": {
        "colab": {
          "base_uri": "https://localhost:8080/"
        },
        "id": "wNXR_56wgb_r",
        "outputId": "55269f01-3155-4b76-ab6d-b4a079e815a1"
      },
      "execution_count": null,
      "outputs": [
        {
          "output_type": "stream",
          "name": "stdout",
          "text": [
            "8\n"
          ]
        }
      ]
    },
    {
      "cell_type": "markdown",
      "source": [
        "\n",
        "\n",
        ">  **Kullanıcıdan veri almak için *input()* fonksiyonu kullanılır.**\n",
        "\n"
      ],
      "metadata": {
        "id": "2TCyykziTzqH"
      }
    },
    {
      "cell_type": "code",
      "source": [
        "yas= input('Yaşınız: ')"
      ],
      "metadata": {
        "colab": {
          "base_uri": "https://localhost:8080/"
        },
        "id": "hmAX_XTHUBOx",
        "outputId": "ad668753-7334-406e-a9ca-3504c70af2f2"
      },
      "execution_count": 12,
      "outputs": [
        {
          "name": "stdout",
          "output_type": "stream",
          "text": [
            "Yaşınız: 10\n"
          ]
        }
      ]
    },
    {
      "cell_type": "code",
      "source": [
        "sayi_1=input('Toplamak istediğiniz ilk sayıyı giriniz:')\n",
        "sayi_2=input('Toplamak istediğiniz ikinci sayıyı giriniz:')\n",
        "print('sayıların Toplamı:', int(sayi_1)+int(sayi_2))"
      ],
      "metadata": {
        "colab": {
          "base_uri": "https://localhost:8080/"
        },
        "id": "cPGCA9TTUBQw",
        "outputId": "fbdf76e1-ed3d-49f3-b179-ffcb0eadca78"
      },
      "execution_count": 14,
      "outputs": [
        {
          "output_type": "stream",
          "name": "stdout",
          "text": [
            "Toplamak istediğiniz ilk sayıyı giriniz:12\n",
            "Toplamak istediğiniz ikinci sayıyı giriniz:4\n",
            "sayıların Toplamı: 16\n"
          ]
        }
      ]
    },
    {
      "cell_type": "code",
      "source": [
        "sayi_1=input('Toplamak istediğiniz ilk sayıyı giriniz:')\n",
        "sayi_2=input('Toplamak istediğiniz ikinci sayıyı giriniz:')\n",
        "print('sayıların Toplamı:', sayi_1+sayi_2)"
      ],
      "metadata": {
        "colab": {
          "base_uri": "https://localhost:8080/"
        },
        "id": "ZaVyYLyWUunx",
        "outputId": "19efce32-6f5b-43c1-a801-9b6b1281b762"
      },
      "execution_count": 15,
      "outputs": [
        {
          "output_type": "stream",
          "name": "stdout",
          "text": [
            "Toplamak istediğiniz ilk sayıyı giriniz:14\n",
            "Toplamak istediğiniz ikinci sayıyı giriniz:15\n",
            "sayıların Toplamı: 1415\n"
          ]
        }
      ]
    },
    {
      "cell_type": "markdown",
      "source": [
        "1# 3) Listeler\n",
        "---\n",
        "\n",
        "* Köşeli parantezlerle tanımlanan, virgülle ayrılmış objeleri içeren veri türleridir. \n",
        "* Tek bir değişkende birden fazla obje depolamak için kullanılır.\n",
        "\n",
        "* Objeler farklı türde olabilir.\n",
        "\n",
        "* Elemanların pozisyonları indekslerle bellidir. İndekslendirme 0'dan başlar.\n",
        "\n",
        "* Listeler değiştirebilir (mutable). Yani bir listenin herhangi bir elemanına tekrardan atama yapılabilir, liste yaratıldıktan sonra eleman eklenebilir veya çıkarılabilir.\n",
        "\n",
        "* Aynı objeden birden fazla içerebilirler."
      ],
      "metadata": {
        "id": "099LPeRxghRW"
      }
    },
    {
      "cell_type": "code",
      "source": [
        "liste = [10, 15.0, x, \"merhaba\", [\"a\",\"b\",\"c\"]]\n",
        "print(liste)"
      ],
      "metadata": {
        "colab": {
          "base_uri": "https://localhost:8080/"
        },
        "id": "-71N4ed4gcCI",
        "outputId": "8f81bcf5-a041-4df5-a274-c40f3aa69132"
      },
      "execution_count": null,
      "outputs": [
        {
          "output_type": "stream",
          "name": "stdout",
          "text": [
            "[10, 15.0, 5, 'merhaba', ['a', 'b', 'c']]\n"
          ]
        }
      ]
    },
    {
      "cell_type": "markdown",
      "source": [
        "\n",
        "\n",
        ">  **Listede kaç eleman olduğunu görmek için *len(list)*fonksiyonu kullanılabilir.** \n",
        "\n"
      ],
      "metadata": {
        "id": "hzEDzdjKg8w-"
      }
    },
    {
      "cell_type": "code",
      "source": [
        "len(liste)"
      ],
      "metadata": {
        "colab": {
          "base_uri": "https://localhost:8080/"
        },
        "id": "u38uloaTgcG3",
        "outputId": "5206915e-00b2-4a48-b820-0e278551f7b3"
      },
      "execution_count": null,
      "outputs": [
        {
          "output_type": "execute_result",
          "data": {
            "text/plain": [
              "5"
            ]
          },
          "metadata": {},
          "execution_count": 48
        }
      ]
    },
    {
      "cell_type": "markdown",
      "source": [
        "\n",
        "\n",
        "> **Belli bir indeksteki elemanı çağırmak için *liste[indeks]* kullanılabilir.**\n",
        "\n"
      ],
      "metadata": {
        "id": "jI3Fw1BxhLxh"
      }
    },
    {
      "cell_type": "code",
      "source": [
        "print(liste[0])          #listenin ilk elemanı\n",
        "print(liste[4][1])       #listenin 5. elemanının 2. elemanı"
      ],
      "metadata": {
        "colab": {
          "base_uri": "https://localhost:8080/"
        },
        "id": "GgPQntP5g4wM",
        "outputId": "b8550fd3-93c9-4d98-a1e6-8313cc408bf2"
      },
      "execution_count": null,
      "outputs": [
        {
          "output_type": "stream",
          "name": "stdout",
          "text": [
            "10\n",
            "b\n"
          ]
        }
      ]
    },
    {
      "cell_type": "markdown",
      "source": [
        "\n",
        "\n",
        "> **Listenin herhangi bir elemanı, aynı şekilde çağırılarak kendisine yeni bir değer atanabilir.**\n",
        "\n"
      ],
      "metadata": {
        "id": "vwFTmWZFhjFv"
      }
    },
    {
      "cell_type": "code",
      "source": [
        "print(liste)\n",
        "liste[1] = \"dünya\"  #ikinci elemana \"dünya\" değerini ata\n",
        "print(liste)"
      ],
      "metadata": {
        "colab": {
          "base_uri": "https://localhost:8080/"
        },
        "id": "qq6x3PKag4y0",
        "outputId": "22cd1014-2585-4bfc-8b5e-dc5914c4c9ee"
      },
      "execution_count": null,
      "outputs": [
        {
          "output_type": "stream",
          "name": "stdout",
          "text": [
            "[10, 15.0, 5, 'merhaba', ['a', 'b', 'c']]\n",
            "[10, 'dünya', 5, 'merhaba', ['a', 'b', 'c']]\n"
          ]
        }
      ]
    },
    {
      "cell_type": "markdown",
      "source": [
        "\n",
        "\n",
        "> **Listeden herhangi bir elemanı silmek için *del komutu* kullanılabilir. del genel olarak hafızadan değişkenleri temizlemek için kullanılır.**\n",
        "\n"
      ],
      "metadata": {
        "id": "u6CwzgukhqcS"
      }
    },
    {
      "cell_type": "code",
      "source": [
        "del liste[2]    #üçüncü elemanı sil\n",
        "print(liste)"
      ],
      "metadata": {
        "colab": {
          "base_uri": "https://localhost:8080/"
        },
        "id": "KSlcLC9Wg40U",
        "outputId": "cd6acce3-470c-4eb8-d295-661c98e1f2fd"
      },
      "execution_count": null,
      "outputs": [
        {
          "output_type": "stream",
          "name": "stdout",
          "text": [
            "[10, 'dünya', 'merhaba', ['a', 'b', 'c']]\n"
          ]
        }
      ]
    },
    {
      "cell_type": "markdown",
      "source": [
        "\n",
        "\n",
        "> Eğer değiştirilmek istenen, değiştirelemez (unmutable) bir değişkenin parçası ise, bu şekilde bir atama yapılamaz.\n",
        "\n"
      ],
      "metadata": {
        "id": "Cn-Pld2ih15q"
      }
    },
    {
      "cell_type": "code",
      "source": [
        "print(liste[1])\n",
        "liste[1][2]=\"a\"     #str objeleri item atamalarını desteklemez hatası alırız. string, immutable bir türdür."
      ],
      "metadata": {
        "id": "ZDANQfDyg44E"
      },
      "execution_count": null,
      "outputs": []
    },
    {
      "cell_type": "markdown",
      "source": [
        "\n",
        "\n",
        "> **Listelere ayırma (slicing) işlemi uygulanabilir. Listeleri bir elemanından diğer bir elemanına kadar seçmek için *liste[ilk_eleman : son_eleman]* kullanılır. ilk_eleman seçime dahil edilirken, son_eleman dahil edilmez.**\n",
        "\n"
      ],
      "metadata": {
        "id": "NU2xUtPsiCby"
      }
    },
    {
      "cell_type": "code",
      "source": [
        "yeni_liste = liste[1:3]\n",
        "print(yeni_liste)"
      ],
      "metadata": {
        "colab": {
          "base_uri": "https://localhost:8080/"
        },
        "id": "2BKm0zEdgcIo",
        "outputId": "47f02f50-35e2-463d-c88a-c71da1e6ba67"
      },
      "execution_count": null,
      "outputs": [
        {
          "output_type": "stream",
          "name": "stdout",
          "text": [
            "['dünya', 'merhaba']\n"
          ]
        }
      ]
    },
    {
      "cell_type": "markdown",
      "source": [
        "\n",
        "\n",
        "> **NOT**: Listelerin itemlerine, negatif indeksler kullanarak tersten de ulaşılabilir.\n",
        "\n"
      ],
      "metadata": {
        "id": "Cyb_GFgoiRHT"
      }
    },
    {
      "cell_type": "code",
      "source": [
        "print(liste[-1])    #listenin son itemini gösterir\n",
        "print(liste[:-1])   #listeyi son itemine kadar gösterir"
      ],
      "metadata": {
        "colab": {
          "base_uri": "https://localhost:8080/"
        },
        "id": "eLkwGtSKgcK3",
        "outputId": "8845a208-06b6-49f7-935e-45ebef83d05c"
      },
      "execution_count": null,
      "outputs": [
        {
          "output_type": "stream",
          "name": "stdout",
          "text": [
            "['a', 'b', 'c']\n",
            "[10, 'dünya', 'merhaba']\n"
          ]
        }
      ]
    },
    {
      "cell_type": "markdown",
      "source": [
        "\n",
        "\n",
        "> **Listelere yeni eleman eklemek için *append()*metodu kullanılır. Listeler sıralı olduğundan yeni eklenen eleman en sona yerleştirilir.**\n",
        "\n"
      ],
      "metadata": {
        "id": "GQvZxwOniZJa"
      }
    },
    {
      "cell_type": "code",
      "source": [
        "liste.append(\"yeni\")\n",
        "print(liste)"
      ],
      "metadata": {
        "colab": {
          "base_uri": "https://localhost:8080/"
        },
        "id": "uEj4J3wAiWa6",
        "outputId": "37369d9a-dc0c-4236-d0aa-31afc908cbfa"
      },
      "execution_count": null,
      "outputs": [
        {
          "output_type": "stream",
          "name": "stdout",
          "text": [
            "[10, 'dünya', 'merhaba', ['a', 'b', 'c'], 'yeni']\n"
          ]
        }
      ]
    },
    {
      "cell_type": "markdown",
      "source": [
        "# 4) Tuple\n",
        "\n",
        "\n",
        "---\n",
        "\n",
        "\n",
        "\n",
        "* Parantezlerle tanımlanan, virgülle ayrılmış objeleri içeren veri türleridir.\n",
        "\n",
        "* Tek bir değişkende birden fazla obje depolamak için kullanılır.\n",
        "\n",
        "* Objeler farklı türde olabilir.\n",
        "\n",
        "* Elemanların pozisyonları indekslerle bellidir. İndekslendirme 0'dan başlar.\n",
        "\n",
        "* Tuple'lar **değiştirilemez (immutable)**. Yani bir tuple'ın elemanlarına  yeni değer atanamaz, tuple'a eleman ekleme veya çıkarma yapılamaz.\n",
        "\n",
        "* Aynı objeden birden fazla içerebilirler."
      ],
      "metadata": {
        "id": "HLEfOtOGiiaS"
      }
    },
    {
      "cell_type": "code",
      "source": [
        "tup = (\"elma\", \"muz\", \"kiraz\")     #bir tuple böyle görünür"
      ],
      "metadata": {
        "id": "EONCqRgSiWfU"
      },
      "execution_count": null,
      "outputs": []
    },
    {
      "cell_type": "code",
      "source": [
        "print(tup)        #tuple'ı gösterir\n",
        "print(tup[0])     #tuple'ın ilk elemanını gösterir\n",
        "print(tup[:-1])   #tuple'ın son elemanına kadar gösterir"
      ],
      "metadata": {
        "colab": {
          "base_uri": "https://localhost:8080/"
        },
        "id": "MmW_2ifNmbsd",
        "outputId": "2c9a48c1-c7cc-4d59-d6d6-37f9882b4b4b"
      },
      "execution_count": null,
      "outputs": [
        {
          "output_type": "stream",
          "name": "stdout",
          "text": [
            "('elma', 'muz', 'kiraz')\n",
            "elma\n",
            "('elma', 'muz')\n"
          ]
        }
      ]
    },
    {
      "cell_type": "markdown",
      "source": [
        "\n",
        "> **İki tuple'ı birbirine ekleyerek yeni bir tuple yapılabilir.**\n",
        "\n",
        "\n"
      ],
      "metadata": {
        "id": "0KEzyN10E-7Y"
      }
    },
    {
      "cell_type": "code",
      "source": [
        "yeni_tup = tup+(5,2)\n",
        "print(yeni_tup)"
      ],
      "metadata": {
        "colab": {
          "base_uri": "https://localhost:8080/"
        },
        "id": "OPPaEKtoD5oJ",
        "outputId": "81562346-9cbe-42ce-ffcd-45a4226feddd"
      },
      "execution_count": null,
      "outputs": [
        {
          "output_type": "stream",
          "name": "stdout",
          "text": [
            "('elma', 'muz', 'kiraz', 5, 2)\n"
          ]
        }
      ]
    },
    {
      "cell_type": "markdown",
      "source": [
        "# 5) Set\n",
        "\n",
        "\n",
        "---\n",
        "\n",
        "\n",
        "\n",
        "* Süslü parantezlerle tanımlanan, virgülle ayrılmış objeleri içeren veri türleridir.\n",
        "\n",
        "* Tek bir değişkende birden fazla obje depolamak için kullanılır.\n",
        "\n",
        "* Objeler farklı türde olabilir.\n",
        "\n",
        "* Elemanların pozisyonları belli değildir. İndekslendirme kullanılmaz.\n",
        "\n",
        "* Setler de **değiştirilemez (immutable)**. Yani bir setin elemanlarına yeni değer atanamaz, sete eleman ekleme veya çıkarma yapılamaz.\n",
        "\n",
        "* Aynı objeden birden fazla **içeremezler**."
      ],
      "metadata": {
        "id": "X8ye9nk3jJ9b"
      }
    },
    {
      "cell_type": "code",
      "source": [
        "setim = {\"elma\", \"muz\", \"kiraz\"} "
      ],
      "metadata": {
        "id": "UmBqv_17iWjj"
      },
      "execution_count": null,
      "outputs": []
    },
    {
      "cell_type": "code",
      "source": [
        "print(type(setim))"
      ],
      "metadata": {
        "colab": {
          "base_uri": "https://localhost:8080/"
        },
        "id": "mKFVrUSHiWl5",
        "outputId": "43affdea-6fbb-41ce-9386-408cefe9e8d8"
      },
      "execution_count": null,
      "outputs": [
        {
          "output_type": "stream",
          "name": "stdout",
          "text": [
            "<class 'set'>\n"
          ]
        }
      ]
    },
    {
      "cell_type": "markdown",
      "source": [
        "# Boolean Değerler\n",
        "\n",
        "\n",
        "\n",
        "---\n",
        "\n",
        "Sadece iki değer `bool` tipinde olabilir; `True` ve `False`.\n",
        "\n",
        "Bir ifadenini bunlardan hangisine denk geldiğini bilmek ilerleyen konularda işimize çok yarayacak.\n",
        "\n"
      ],
      "metadata": {
        "id": "zkIRlzFTwcSu"
      }
    },
    {
      "cell_type": "code",
      "source": [
        "a=True\n",
        "type(a)"
      ],
      "metadata": {
        "colab": {
          "base_uri": "https://localhost:8080/"
        },
        "id": "JzWUlSBQFUrF",
        "outputId": "8028a2ec-5e67-4ac9-8c06-635f0181f214"
      },
      "execution_count": null,
      "outputs": [
        {
          "output_type": "execute_result",
          "data": {
            "text/plain": [
              "bool"
            ]
          },
          "metadata": {},
          "execution_count": 61
        }
      ]
    },
    {
      "cell_type": "markdown",
      "source": [
        "\n",
        "\n",
        "> **Herhangi bir değişkenin ya da ifadenin boolean karşılığını bulmak için `bool()` fonksiyonunu kullanabiliriz.**\n",
        "\n"
      ],
      "metadata": {
        "id": "P-9vSm9qFojS"
      }
    },
    {
      "cell_type": "code",
      "source": [
        "b=0\n",
        "b=bool(b)\n",
        "print(b)"
      ],
      "metadata": {
        "colab": {
          "base_uri": "https://localhost:8080/"
        },
        "id": "Drq-ZBieFnbW",
        "outputId": "e57c66b7-c46a-443c-9fce-47b5899d6eee"
      },
      "execution_count": null,
      "outputs": [
        {
          "output_type": "stream",
          "name": "stdout",
          "text": [
            "False\n"
          ]
        }
      ]
    },
    {
      "cell_type": "markdown",
      "source": [
        "# Sözlükler (Dictionaries)\n",
        "\n",
        "---\n",
        "\n",
        "\n",
        "\n",
        "* Süslü parantezlerle tanımlanan, virgülle ayrılmış anahtar:değer (key:value) çiflerini içeren veri türleridir.\n",
        "\n",
        "* Değerlere, `sözlük[anahtar]` kullanılarak erişilebilir.\n",
        "\n",
        "* Anahtarlar da değerler de farklı türden objeler olabilir.\n",
        "\n",
        "* Sözlükler de **değiştirilebilir (mutable)**. Yani bir sözlüğün anahtarlarına yeni değer atanabilir, sözlüğe anahtar:değer çifti eklenip çıkarılabilir.\n",
        "\n",
        "* Aynı anahtardan birden fazla **içeremezler**.\n",
        "\n"
      ],
      "metadata": {
        "id": "UplHpZ5q1zan"
      }
    },
    {
      "cell_type": "markdown",
      "source": [
        "\n",
        "\n",
        "> **Yazı ile belirtilmiş sayıların tam sayı karşılığını gösteren bir sözlük aşağıdaki formdadır. Yazı ile belirtilmiş string halleri anahtar, tam sayı karşılıkları ise değerlerdir.**\n"
      ],
      "metadata": {
        "id": "pSbpaa8VsbD3"
      }
    },
    {
      "cell_type": "code",
      "source": [
        "sayılar = { \"bir\":1,\n",
        "            \"iki\":2,\n",
        "            \"üç\":3 }"
      ],
      "metadata": {
        "id": "5woHddvtX5Gx"
      },
      "execution_count": null,
      "outputs": []
    },
    {
      "cell_type": "code",
      "source": [
        "print(sayılar)"
      ],
      "metadata": {
        "colab": {
          "base_uri": "https://localhost:8080/"
        },
        "id": "ATTZ022rsuWJ",
        "outputId": "e750adc4-e16b-4226-f1da-0b47512e7149"
      },
      "execution_count": null,
      "outputs": [
        {
          "output_type": "stream",
          "name": "stdout",
          "text": [
            "{'bir': 1, 'iki': 2, 'üç': 3}\n"
          ]
        }
      ]
    },
    {
      "cell_type": "code",
      "source": [
        "print(sayılar[\"iki\"])"
      ],
      "metadata": {
        "colab": {
          "base_uri": "https://localhost:8080/"
        },
        "id": "stWx-We6uvj5",
        "outputId": "10970a8b-e483-46ad-85b7-82749aeff72f"
      },
      "execution_count": null,
      "outputs": [
        {
          "output_type": "stream",
          "name": "stdout",
          "text": [
            "2\n"
          ]
        }
      ]
    },
    {
      "cell_type": "markdown",
      "source": [
        "\n",
        "\n",
        "> **`sözlük[anahtar]` bir değere eşitlenebilir. Eğer o anahtar daha önceden sözlükte bulunuyorsa değeri güncellenmiş olur, sözlükte bulunmuyorsa yeni bir anahtar:değer çifti sözlüğe eklenir.**\n",
        "\n"
      ],
      "metadata": {
        "id": "qudIUrCnvzOy"
      }
    },
    {
      "cell_type": "code",
      "source": [
        "sayılar[\"dört\"] = 4\n",
        "print(sayılar)"
      ],
      "metadata": {
        "colab": {
          "base_uri": "https://localhost:8080/"
        },
        "id": "MYc4koM-wXjb",
        "outputId": "d6db781e-aa8f-42ed-e917-dd79d9016122"
      },
      "execution_count": null,
      "outputs": [
        {
          "output_type": "stream",
          "name": "stdout",
          "text": [
            "{'bir': 1, 'iki': 2, 'üç': 3, 'dört': 4}\n"
          ]
        }
      ]
    },
    {
      "cell_type": "markdown",
      "source": [
        "#### Sözlük Metodları"
      ],
      "metadata": {
        "id": "M83AQ2z4rh7k"
      }
    },
    {
      "cell_type": "markdown",
      "source": [
        "\n",
        "\n",
        "> **Keys Metodu**\n",
        "\n",
        "Sözlükteki bütün anahtarları verir.\n",
        "\n"
      ],
      "metadata": {
        "id": "_9ePgXIqs3Dm"
      }
    },
    {
      "cell_type": "code",
      "source": [
        "sayı_anahtarları = sayılar.keys()\n",
        "print(sayı_anahtarları)"
      ],
      "metadata": {
        "colab": {
          "base_uri": "https://localhost:8080/"
        },
        "id": "ov2oHY8Ys0ed",
        "outputId": "31a94362-2856-480c-86d5-b7836f02f527"
      },
      "execution_count": null,
      "outputs": [
        {
          "output_type": "stream",
          "name": "stdout",
          "text": [
            "dict_keys(['bir', 'iki', 'üç'])\n"
          ]
        }
      ]
    },
    {
      "cell_type": "markdown",
      "source": [
        "\n",
        "\n",
        "> **Values Metodu**\n",
        "\n",
        "\n",
        "\n",
        "Sözlükteki bütün değerleri verir"
      ],
      "metadata": {
        "id": "GpKl4VE3rv2y"
      }
    },
    {
      "cell_type": "code",
      "source": [
        "sayı_değerleri = sayılar.values()\n",
        "print(sayı_değerleri)"
      ],
      "metadata": {
        "colab": {
          "base_uri": "https://localhost:8080/"
        },
        "id": "0XwiSWAJteQ0",
        "outputId": "a4e0ea46-4847-4a1f-bf8a-59dbb3bf4021"
      },
      "execution_count": null,
      "outputs": [
        {
          "output_type": "stream",
          "name": "stdout",
          "text": [
            "dict_values([1, 2, 3])\n"
          ]
        }
      ]
    },
    {
      "cell_type": "markdown",
      "source": [
        "\n",
        "\n",
        "> **Get Metodu**\n",
        "\n",
        "\n",
        "\n",
        "Aradığımız bir değerin sözlük içinde olup olmadığını söyler. Eğer aradığımız anahtar sözlükte yoksa, çıktı mesajını da ayarlayabiliri.\n"
      ],
      "metadata": {
        "id": "IDqdGU1mt17T"
      }
    },
    {
      "cell_type": "code",
      "source": [
        "sayılar.get(\"üç\")"
      ],
      "metadata": {
        "colab": {
          "base_uri": "https://localhost:8080/"
        },
        "id": "WrX94pXyt1Ip",
        "outputId": "60ddc161-30a5-4805-8088-fe6b17272b89"
      },
      "execution_count": null,
      "outputs": [
        {
          "output_type": "execute_result",
          "data": {
            "text/plain": [
              "3"
            ]
          },
          "metadata": {},
          "execution_count": 68
        }
      ]
    },
    {
      "cell_type": "code",
      "source": [
        "x = \"beş\"\n",
        "sayılar.get(x,\"aradığınız anahtar henüz tanımlanmadı\")"
      ],
      "metadata": {
        "colab": {
          "base_uri": "https://localhost:8080/",
          "height": 35
        },
        "id": "JUo5j7sruXrC",
        "outputId": "31aff11f-f316-4c55-c935-cd073c885b0f"
      },
      "execution_count": null,
      "outputs": [
        {
          "output_type": "execute_result",
          "data": {
            "text/plain": [
              "'aradığınız anahtar henüz tanımlanmadı'"
            ],
            "application/vnd.google.colaboratory.intrinsic+json": {
              "type": "string"
            }
          },
          "metadata": {},
          "execution_count": 69
        }
      ]
    },
    {
      "cell_type": "markdown",
      "source": [
        "\n",
        "\n",
        "> **Pop Metodu**\n",
        "\n",
        "\n",
        "\n",
        "Anahtarını kullanarak bir öğeyi silmeyi sağlar."
      ],
      "metadata": {
        "id": "OZ3eYUvfvboc"
      }
    },
    {
      "cell_type": "code",
      "source": [
        "sayılar.pop(\"üç\")\n",
        "print(sayılar)"
      ],
      "metadata": {
        "colab": {
          "base_uri": "https://localhost:8080/"
        },
        "id": "JPd3XldNvvIA",
        "outputId": "b026f77f-5f71-4fb4-9eca-3f8d76d5e8d8"
      },
      "execution_count": null,
      "outputs": [
        {
          "output_type": "stream",
          "name": "stdout",
          "text": [
            "{'bir': 1, 'iki': 2}\n"
          ]
        }
      ]
    },
    {
      "cell_type": "markdown",
      "source": [
        "\n",
        "\n",
        "---\n",
        "\n",
        "[Buradan](https://www.w3schools.com/python/python_ref_dictionary.asp) daha fazla sözlük metoduna ulaşabilirsiniz.\n",
        "\n",
        "---\n",
        "\n"
      ],
      "metadata": {
        "id": "j3rQ4UhczysO"
      }
    },
    {
      "cell_type": "markdown",
      "source": [
        "# 7) Stringler ve String Operasyonları\n",
        "\n",
        "\n",
        "---\n",
        "\n",
        "\n",
        "\n",
        "* String türündeki değişkenler yazılardır. Python'da tek (') ya da çift (\") tırnak ile ifade edilebilirler.\n",
        "\n",
        "* Stringler değiştirilemezler (immutable). Herhangi bir karaktere yeni bir değer atanamaz.\n",
        "\n",
        "* Karakterler sıralıdır, herhangi bir indeksteki karaktere `string[indeks]` ile ulaşılabilir.\n"
      ],
      "metadata": {
        "id": "oDAVJ4VL167G"
      }
    },
    {
      "cell_type": "code",
      "source": [
        "birString = \"Merhaba\"\n",
        "başkaString = 'Dünya'"
      ],
      "metadata": {
        "id": "4XHmePcmHUOJ"
      },
      "execution_count": null,
      "outputs": []
    },
    {
      "cell_type": "code",
      "source": [
        "print(birString, başkaString)\n",
        "print( type(birString), type(başkaString))"
      ],
      "metadata": {
        "colab": {
          "base_uri": "https://localhost:8080/"
        },
        "id": "b8kV43TIHcYS",
        "outputId": "d2fe15b4-f413-418b-d762-80f9fdb58cad"
      },
      "execution_count": null,
      "outputs": [
        {
          "output_type": "stream",
          "name": "stdout",
          "text": [
            "Merhaba Dünya\n",
            "<class 'str'> <class 'str'>\n"
          ]
        }
      ]
    },
    {
      "cell_type": "markdown",
      "source": [
        "\n",
        "\n",
        "> **Stringleri `+` operatörü ile birbirine ekleyebiliriz.**\n",
        "\n"
      ],
      "metadata": {
        "id": "Di6a7U3zezcH"
      }
    },
    {
      "cell_type": "code",
      "source": [
        "başkabirString = birString + başkaString\n",
        "print(başkabirString)\n"
      ],
      "metadata": {
        "colab": {
          "base_uri": "https://localhost:8080/"
        },
        "id": "yS0bqGxBfDCY",
        "outputId": "22dc7670-dfb2-4e75-a8b2-f81d575b7443"
      },
      "execution_count": null,
      "outputs": [
        {
          "output_type": "stream",
          "name": "stdout",
          "text": [
            "MerhabaDünya\n"
          ]
        }
      ]
    },
    {
      "cell_type": "code",
      "source": [
        "başkabirString = birString + \" \" + başkaString\n",
        "print(başkabirString)"
      ],
      "metadata": {
        "colab": {
          "base_uri": "https://localhost:8080/"
        },
        "id": "WZBMGiUDioL5",
        "outputId": "201c4c5f-96fe-4ede-e289-3b951e7dca5b"
      },
      "execution_count": null,
      "outputs": [
        {
          "output_type": "stream",
          "name": "stdout",
          "text": [
            "Merhaba Dünya\n"
          ]
        }
      ]
    },
    {
      "cell_type": "markdown",
      "source": [
        "\n",
        "\n",
        "> **Bir String tek tırnak ile oluşturulduysa, içerisinde kesme işareti bulundurabilme için, önüne kaçış (escape) karakteri olan `\\` konmalıdır.**\n",
        "\n",
        "\n",
        "\n",
        "\n",
        "\n",
        "> **Çift Tırnaklarla oluşturulan stringler için böyle bir gereklilik yoktur.**\n",
        "\n"
      ],
      "metadata": {
        "id": "AZ2gz0Y_HmZV"
      }
    },
    {
      "cell_type": "code",
      "source": [
        "tekTırnak = 'Türkiye\\'nin Başkenti'\n",
        "çiftTırnak = \"Ankara'dır\"\n",
        "\n",
        "print(tekTırnak, çiftTırnak)"
      ],
      "metadata": {
        "colab": {
          "base_uri": "https://localhost:8080/"
        },
        "id": "_KK2QqAXHgES",
        "outputId": "4e7fe11b-25a7-43b6-f382-fee203b8f284"
      },
      "execution_count": null,
      "outputs": [
        {
          "output_type": "stream",
          "name": "stdout",
          "text": [
            "Türkiye'nin Başkenti Ankara'dır\n"
          ]
        }
      ]
    },
    {
      "cell_type": "markdown",
      "source": [
        "\n",
        "\n",
        "> **Bu sadece Python'ın değişkenin nerede bittiğini anlaması içindir. Aynı şekilde çift tırnak ile oluşturulan bir stringde çift tırnak (\") işaretini kullanırken de aynı yöntem kullanılmalıdır.**\n",
        "\n"
      ],
      "metadata": {
        "id": "mfq8RF9BI54g"
      }
    },
    {
      "cell_type": "code",
      "source": [
        "s = \"\\\"Bu cümle çift tırnak içinde olsun\\\"\"\n",
        "c = \"'Bu da tek'\"\n",
        "print(s)\n",
        "print(c)"
      ],
      "metadata": {
        "colab": {
          "base_uri": "https://localhost:8080/"
        },
        "id": "FLgYN8BuI4lg",
        "outputId": "a5dcfd2a-a135-457f-a4ac-997d75918769"
      },
      "execution_count": null,
      "outputs": [
        {
          "output_type": "stream",
          "name": "stdout",
          "text": [
            "\"Bu cümle çift tırnak içinde olsun\"\n",
            "'Bu da tek'\n"
          ]
        }
      ]
    },
    {
      "cell_type": "markdown",
      "source": [
        "\n",
        "\n",
        "> **Kaçış karakterlerini kullanmamak için basit bir yöntem olarak stringler üç tırnak ile oluşturulabilir. Bu durumda hiçbir tırnak ya da kesme işareti kaçış karakterlerine ihtiyaç olmadan kullanılabilir.**\n",
        "\n"
      ],
      "metadata": {
        "id": "HuMAJol3U0Xm"
      }
    },
    {
      "cell_type": "code",
      "source": [
        "üçtırnak =\"\"\"ister \"iki tırnak\" ister 'tek'\"\"\"\n",
        "print(üçtırnak)"
      ],
      "metadata": {
        "colab": {
          "base_uri": "https://localhost:8080/"
        },
        "id": "2JWZQdkNUefV",
        "outputId": "9edb132b-d804-4183-8efd-88661c6c9869"
      },
      "execution_count": null,
      "outputs": [
        {
          "output_type": "stream",
          "name": "stdout",
          "text": [
            "ister \"iki tırnak\" ister 'tek'\n"
          ]
        }
      ]
    },
    {
      "cell_type": "markdown",
      "source": [
        "### Stringlerde Bölme (Slicing)\n",
        "\n",
        "\n",
        "\n",
        "> **listelere uyguladığımız bölme işlemleri stringler için de uygulanabilir.**\n",
        "\n"
      ],
      "metadata": {
        "id": "WnOhlwhUNbsz"
      }
    },
    {
      "cell_type": "code",
      "source": [
        "lor = \"Lorem ipsum dolor sit amet, consectetur adipiscing elit. Fusce at risus maximus, posuere quam et, auctor sem. Fusce euismod dolor consectetur libero pretium, tincidunt ullamcorper tortor efficitur. Aenean a dictum lorem. Phasellus quis ipsum ac erat tincidunt ornare. Etiam dignissim augue a orci venenatis lacinia. Sed euismod eu diam non hendrerit. Sed porttitor, nisi sit amet mattis suscipit, lectus turpis tristique libero, nec interdum justo justo at lectus. In tempus blandit urna nec hendrerit. Vivamus ullamcorper ipsum turpis, ac vehicula diam dictum vitae. Sed suscipit urna ac mauris vulputate dignissim. Donec sit amet gravida odio. Class aptent taciti sociosqu ad litora torquent per conubia nostra, per inceptos himenaeos. Mauris molestie massa in neque aliquet, ac fringilla nisl finibus.\""
      ],
      "metadata": {
        "id": "hJTgfFgdKOtT"
      },
      "execution_count": null,
      "outputs": []
    },
    {
      "cell_type": "code",
      "source": [
        "print (lor)"
      ],
      "metadata": {
        "colab": {
          "base_uri": "https://localhost:8080/"
        },
        "id": "xaIu60n4KorC",
        "outputId": "b342ae05-a651-4ee3-a34a-4f3fc3fd138c"
      },
      "execution_count": null,
      "outputs": [
        {
          "output_type": "stream",
          "name": "stdout",
          "text": [
            "Lorem ipsum dolor sit amet, consectetur adipiscing elit. Fusce at risus maximus, posuere quam et, auctor sem. Fusce euismod dolor consectetur libero pretium, tincidunt ullamcorper tortor efficitur. Aenean a dictum lorem. Phasellus quis ipsum ac erat tincidunt ornare. Etiam dignissim augue a orci venenatis lacinia. Sed euismod eu diam non hendrerit. Sed porttitor, nisi sit amet mattis suscipit, lectus turpis tristique libero, nec interdum justo justo at lectus. In tempus blandit urna nec hendrerit. Vivamus ullamcorper ipsum turpis, ac vehicula diam dictum vitae. Sed suscipit urna ac mauris vulputate dignissim. Donec sit amet gravida odio. Class aptent taciti sociosqu ad litora torquent per conubia nostra, per inceptos himenaeos. Mauris molestie massa in neque aliquet, ac fringilla nisl finibus.\n"
          ]
        }
      ]
    },
    {
      "cell_type": "code",
      "source": [
        "print(lor[10:20])       #10. karakter ile 20. karakter arasındaki bütün karakterleri gösterir\n",
        "print(lor[50:])         #50. karakterden sona kadar gösterir\n",
        "print(lor[:50])         #en baştan 50. karaktere kadar gösterir"
      ],
      "metadata": {
        "colab": {
          "base_uri": "https://localhost:8080/"
        },
        "id": "1xj90sdJK7vn",
        "outputId": "4489f6c5-3e86-4478-a07b-ac43ed15e5c5"
      },
      "execution_count": null,
      "outputs": [
        {
          "output_type": "stream",
          "name": "stdout",
          "text": [
            "m dolor si\n",
            " elit. Fusce at risus maximus, posuere quam et, auctor sem. Fusce euismod dolor consectetur libero pretium, tincidunt ullamcorper tortor efficitur. Aenean a dictum lorem. Phasellus quis ipsum ac erat tincidunt ornare. Etiam dignissim augue a orci venenatis lacinia. Sed euismod eu diam non hendrerit. Sed porttitor, nisi sit amet mattis suscipit, lectus turpis tristique libero, nec interdum justo justo at lectus. In tempus blandit urna nec hendrerit. Vivamus ullamcorper ipsum turpis, ac vehicula diam dictum vitae. Sed suscipit urna ac mauris vulputate dignissim. Donec sit amet gravida odio. Class aptent taciti sociosqu ad litora torquent per conubia nostra, per inceptos himenaeos. Mauris molestie massa in neque aliquet, ac fringilla nisl finibus.\n",
            "Lorem ipsum dolor sit amet, consectetur adipiscing\n"
          ]
        }
      ]
    },
    {
      "cell_type": "markdown",
      "source": [
        "**NOT:** Stringlerde de negatif indeksler kullanabiliriz."
      ],
      "metadata": {
        "id": "vPN50Qi_PlDF"
      }
    },
    {
      "cell_type": "code",
      "source": [
        "lor[-50:-20]          #sondan 50. ile sondan 20 karakter arasındakileri gösterir "
      ],
      "metadata": {
        "colab": {
          "base_uri": "https://localhost:8080/",
          "height": 35
        },
        "id": "X0D-2Bt0PT44",
        "outputId": "904cdf0c-9069-4a9f-982c-74581d2a6461"
      },
      "execution_count": null,
      "outputs": [
        {
          "output_type": "execute_result",
          "data": {
            "text/plain": [
              "'massa in neque aliquet, ac fri'"
            ],
            "application/vnd.google.colaboratory.intrinsic+json": {
              "type": "string"
            }
          },
          "metadata": {},
          "execution_count": 82
        }
      ]
    },
    {
      "cell_type": "markdown",
      "source": [
        "\n",
        "\n",
        "### **String Metodları**\n",
        "\n"
      ],
      "metadata": {
        "id": "JH0Bfmf_QO3m"
      }
    },
    {
      "cell_type": "markdown",
      "source": [
        "\n",
        "\n",
        "> **Büyük Harf**\n",
        "\n"
      ],
      "metadata": {
        "id": "X432f-9-QyIA"
      }
    },
    {
      "cell_type": "code",
      "source": [
        "lor.upper()"
      ],
      "metadata": {
        "colab": {
          "base_uri": "https://localhost:8080/",
          "height": 105
        },
        "id": "3oJ3-yZhQ308",
        "outputId": "642d47e4-622f-4969-d7e3-2a99fb176ad3"
      },
      "execution_count": null,
      "outputs": [
        {
          "output_type": "execute_result",
          "data": {
            "text/plain": [
              "'LOREM IPSUM DOLOR SIT AMET, CONSECTETUR ADIPISCING ELIT. FUSCE AT RISUS MAXIMUS, POSUERE QUAM ET, AUCTOR SEM. FUSCE EUISMOD DOLOR CONSECTETUR LIBERO PRETIUM, TINCIDUNT ULLAMCORPER TORTOR EFFICITUR. AENEAN A DICTUM LOREM. PHASELLUS QUIS IPSUM AC ERAT TINCIDUNT ORNARE. ETIAM DIGNISSIM AUGUE A ORCI VENENATIS LACINIA. SED EUISMOD EU DIAM NON HENDRERIT. SED PORTTITOR, NISI SIT AMET MATTIS SUSCIPIT, LECTUS TURPIS TRISTIQUE LIBERO, NEC INTERDUM JUSTO JUSTO AT LECTUS. IN TEMPUS BLANDIT URNA NEC HENDRERIT. VIVAMUS ULLAMCORPER IPSUM TURPIS, AC VEHICULA DIAM DICTUM VITAE. SED SUSCIPIT URNA AC MAURIS VULPUTATE DIGNISSIM. DONEC SIT AMET GRAVIDA ODIO. CLASS APTENT TACITI SOCIOSQU AD LITORA TORQUENT PER CONUBIA NOSTRA, PER INCEPTOS HIMENAEOS. MAURIS MOLESTIE MASSA IN NEQUE ALIQUET, AC FRINGILLA NISL FINIBUS.'"
            ],
            "application/vnd.google.colaboratory.intrinsic+json": {
              "type": "string"
            }
          },
          "metadata": {},
          "execution_count": 38
        }
      ]
    },
    {
      "cell_type": "markdown",
      "source": [
        "\n",
        "\n",
        "> **Küçük Harf**\n",
        "\n"
      ],
      "metadata": {
        "id": "mYaXWVKjQz4A"
      }
    },
    {
      "cell_type": "code",
      "source": [
        "lor.lower()"
      ],
      "metadata": {
        "colab": {
          "base_uri": "https://localhost:8080/",
          "height": 105
        },
        "id": "2L9qd_8_RAe6",
        "outputId": "f386108b-4f51-415b-fc8b-5d566dcc016c"
      },
      "execution_count": null,
      "outputs": [
        {
          "output_type": "execute_result",
          "data": {
            "text/plain": [
              "'lorem ipsum dolor sit amet, consectetur adipiscing elit. fusce at risus maximus, posuere quam et, auctor sem. fusce euismod dolor consectetur libero pretium, tincidunt ullamcorper tortor efficitur. aenean a dictum lorem. phasellus quis ipsum ac erat tincidunt ornare. etiam dignissim augue a orci venenatis lacinia. sed euismod eu diam non hendrerit. sed porttitor, nisi sit amet mattis suscipit, lectus turpis tristique libero, nec interdum justo justo at lectus. in tempus blandit urna nec hendrerit. vivamus ullamcorper ipsum turpis, ac vehicula diam dictum vitae. sed suscipit urna ac mauris vulputate dignissim. donec sit amet gravida odio. class aptent taciti sociosqu ad litora torquent per conubia nostra, per inceptos himenaeos. mauris molestie massa in neque aliquet, ac fringilla nisl finibus.'"
            ],
            "application/vnd.google.colaboratory.intrinsic+json": {
              "type": "string"
            }
          },
          "metadata": {},
          "execution_count": 41
        }
      ]
    },
    {
      "cell_type": "markdown",
      "source": [
        "\n",
        "\n",
        "> **Boşlukları kaldırmak**\n",
        "\n",
        "**stringin** sonundaki ve başındaki boşlukları kaldırmamız gerektiğinde `strip()` metodunu kullanırız.\n",
        "\n"
      ],
      "metadata": {
        "id": "M2bIeuPIQ1Y3"
      }
    },
    {
      "cell_type": "code",
      "source": [
        "boşluklu = \"  Lorem ipsum dolor sit amet    \"\n",
        "boşluksuz = boşluklu.strip()\n",
        "print(boşluklu)\n",
        "print(boşluksuz)"
      ],
      "metadata": {
        "colab": {
          "base_uri": "https://localhost:8080/"
        },
        "id": "tXJDzC6HRA6c",
        "outputId": "cd51de46-9dbd-45ed-fc87-2a54185eba6e"
      },
      "execution_count": null,
      "outputs": [
        {
          "output_type": "stream",
          "name": "stdout",
          "text": [
            "  Lorem ipsum dolor sit amet    \n",
            "Lorem ipsum dolor sit amet\n"
          ]
        }
      ]
    },
    {
      "cell_type": "markdown",
      "source": [
        "\n",
        "\n",
        "> **stringin başından ve sonundan kaldırılmasını istediğimiz belli karakterler olduğunda `strip(\"karakter\") `metodunu kullanabiliriz**\n",
        "\n"
      ],
      "metadata": {
        "id": "jindzhNnSXHZ"
      }
    },
    {
      "cell_type": "code",
      "source": [
        "boşluksuz.strip(\"met\")\n",
        "boşluksuz.strip(\"Lore\")"
      ],
      "metadata": {
        "colab": {
          "base_uri": "https://localhost:8080/",
          "height": 35
        },
        "id": "ELIf8jzFRLNO",
        "outputId": "1045b58e-e992-4ae0-bf99-268e58169ba9"
      },
      "execution_count": null,
      "outputs": [
        {
          "output_type": "execute_result",
          "data": {
            "text/plain": [
              "'m ipsum dolor sit amet'"
            ],
            "application/vnd.google.colaboratory.intrinsic+json": {
              "type": "string"
            }
          },
          "metadata": {},
          "execution_count": 84
        }
      ]
    },
    {
      "cell_type": "markdown",
      "source": [
        "\n",
        "\n",
        "---\n",
        "\n",
        "\n",
        "[Buradan](https://www.w3schools.com/python/python_strings_methods.asp) daha fazla string metoduna ulaşabilirsiniz.\n",
        "\n",
        "---\n",
        "\n"
      ],
      "metadata": {
        "id": "xelx6RWTVlbG"
      }
    },
    {
      "cell_type": "markdown",
      "source": [
        "<table class=\"ws-table-all notranslate\">\n",
        "<tbody><tr>\n",
        "<th>Method</th>\n",
        "<th>Description</th>\n",
        "</tr>\n",
        "  <tr>\n",
        "    <td><a href=\"ref_string_capitalize.asp\">capitalize()</a></td><td>Converts the first \n",
        "    character to upper case</td>\n",
        "  </tr>\n",
        "  <tr>\n",
        "    <td><a href=\"ref_string_casefold.asp\">casefold()</a></td><td>Converts string into \n",
        "    lower case</td>\n",
        "  </tr>\n",
        "  <tr>\n",
        "    <td><a href=\"ref_string_center.asp\">center()</a></td><td>Returns a centered \n",
        "    string</td>\n",
        "  </tr>\n",
        "  <tr>\n",
        "    <td><a href=\"ref_string_count.asp\">count()</a></td><td>Returns the number of \n",
        "    times a specified value occurs in a string</td>\n",
        "  </tr>\n",
        "  <tr>\n",
        "    <td><a href=\"ref_string_encode.asp\">encode()</a></td><td>Returns an encoded \n",
        "    version of the string</td>\n",
        "  </tr>\n",
        "  <tr>\n",
        "    <td><a href=\"ref_string_endswith.asp\">endswith()</a></td><td>Returns true if the \n",
        "    string ends with the specified value</td>\n",
        "  </tr>\n",
        "  <tr>\n",
        "    <td><a href=\"ref_string_expandtabs.asp\">expandtabs()</a></td><td>Sets the \n",
        "    tab size of the string</td>\n",
        "  </tr>\n",
        "  <tr>\n",
        "    <td><a href=\"ref_string_find.asp\">find()</a></td><td>Searches the string for a \n",
        "    specified value and returns the position of where it was found</td>\n",
        "  </tr>\n",
        "  <tr>\n",
        "    <td><a href=\"ref_string_format.asp\">format()</a></td><td>Formats specified \n",
        "    values in a string</td>\n",
        "  </tr>\n",
        "  <tr>\n",
        "    <td>format_map()</td><td>Formats specified \n",
        "    values in a string</td>\n",
        "  </tr>\n",
        "  <tr>\n",
        "    <td><a href=\"ref_string_index.asp\">index()</a></td><td>Searches the string \n",
        "    for a specified value and returns the position of where it was found</td>\n",
        "  </tr>\n",
        "  <tr>\n",
        "    <td><a href=\"ref_string_isalnum.asp\">isalnum()</a></td><td>Returns True if all \n",
        "    characters in the string are alphanumeric</td>\n",
        "  </tr>\n",
        "  <tr>\n",
        "    <td><a href=\"ref_string_isalpha.asp\">isalpha()</a></td><td>Returns True if all \n",
        "    characters in the string are in the alphabet</td>\n",
        "  </tr>\n",
        "  <tr>\n",
        "    <td><a href=\"ref_string_isdecimal.asp\">isdecimal()</a></td><td>Returns True if all \n",
        "    characters in the string are decimals</td>\n",
        "  </tr>\n",
        "  <tr>\n",
        "    <td><a href=\"ref_string_isdigit.asp\">isdigit()</a></td><td>Returns True if all \n",
        "    characters in the string are digits</td>\n",
        "  </tr>\n",
        "  <tr>\n",
        "    <td><a href=\"ref_string_isidentifier.asp\">isidentifier()</a></td><td>Returns True if \n",
        "    the string is an identifier</td>\n",
        "  </tr>\n",
        "  <tr>\n",
        "    <td><a href=\"ref_string_islower.asp\">islower()</a></td><td>Returns True if all \n",
        "    characters in the string are lower case</td>\n",
        "  </tr>\n",
        "  <tr>\n",
        "    <td><a href=\"ref_string_isnumeric.asp\">isnumeric()</a></td><td>Returns True if \n",
        "    all characters in the string are numeric</td>\n",
        "  </tr>\n",
        "  <tr>\n",
        "    <td><a href=\"ref_string_isprintable.asp\">isprintable()</a></td><td>Returns True if \n",
        "    all characters in the string are printable</td>\n",
        "  </tr>\n",
        "  <tr>\n",
        "    <td><a href=\"ref_string_isspace.asp\">isspace()</a></td><td>Returns True if all \n",
        "    characters in the string are whitespaces</td>\n",
        "  </tr>\n",
        "  <tr>\n",
        "    <td><a href=\"ref_string_istitle.asp\">istitle()</a></td>\n",
        "    <td>Returns True if the string follows the rules of a \n",
        "    title</td>\n",
        "  </tr>\n",
        "  <tr>\n",
        "    <td><a href=\"ref_string_isupper.asp\">isupper()</a></td><td>Returns True if all \n",
        "    characters in the string are upper case</td>\n",
        "  </tr>\n",
        "  <tr>\n",
        "    <td><a href=\"ref_string_join.asp\">join()</a></td><td>Joins the elements of \n",
        "    an iterable to the end of the string</td>\n",
        "  </tr>\n",
        "  <tr>\n",
        "    <td><a href=\"ref_string_ljust.asp\">ljust()</a></td><td>Returns a left justified \n",
        "    version of the string</td>\n",
        "  </tr>\n",
        "  <tr>\n",
        "    <td><a href=\"ref_string_lower.asp\">lower()</a></td><td>Converts a string into \n",
        "    lower case</td>\n",
        "  </tr>\n",
        "  <tr>\n",
        "    <td><a href=\"ref_string_lstrip.asp\">lstrip()</a></td><td>Returns a left trim \n",
        "    version of the string</td>\n",
        "  </tr>\n",
        "  <tr>\n",
        "    <td><a href=\"ref_string_maketrans.asp\">maketrans()</a></td><td>Returns a \n",
        "    translation table to be used in translations</td>\n",
        "  </tr>\n",
        "  <tr>\n",
        "    <td><a href=\"ref_string_partition.asp\">partition()</a></td><td>Returns a tuple \n",
        "    where the string is parted into three parts</td>\n",
        "  </tr>\n",
        "  <tr>\n",
        "    <td><a href=\"ref_string_replace.asp\">replace()</a></td><td>Returns a string \n",
        "    where a specified value is replaced with a specified value</td>\n",
        "  </tr>\n",
        "  <tr>\n",
        "    <td><a href=\"ref_string_rfind.asp\">rfind()</a></td><td>Searches the string for \n",
        "    a specified value and returns the last position of where it was found</td>\n",
        "  </tr>\n",
        "  <tr>\n",
        "    <td><a href=\"ref_string_rindex.asp\">rindex()</a></td><td>Searches the string for \n",
        "    a specified value and returns the last position of where it was found</td>\n",
        "  </tr>\n",
        "  <tr>\n",
        "    <td><a href=\"ref_string_rjust.asp\">rjust()</a></td><td>Returns a right justified \n",
        "    version of the string</td>\n",
        "  </tr>\n",
        "  <tr>\n",
        "    <td><a href=\"ref_string_rpartition.asp\">rpartition()</a></td><td>Returns a tuple \n",
        "    where the string is parted into three parts</td>\n",
        "  </tr>\n",
        "  <tr>\n",
        "    <td><a href=\"ref_string_rsplit.asp\">rsplit()</a></td><td>Splits the string at \n",
        "    the specified separator, and returns a list</td>\n",
        "  </tr>\n",
        "  <tr>\n",
        "    <td><a href=\"ref_string_rstrip.asp\">rstrip()</a></td><td>Returns a right trim \n",
        "    version of the string</td>\n",
        "  </tr>\n",
        "  <tr>\n",
        "    <td><a href=\"ref_string_split.asp\">split()</a></td><td>Splits the string at \n",
        "    the specified separator, and returns a list</td>\n",
        "  </tr>\n",
        "  <tr>\n",
        "    <td><a href=\"ref_string_splitlines.asp\">splitlines()</a></td><td>Splits the string \n",
        "    at line breaks and returns a list</td>\n",
        "  </tr>\n",
        "  <tr>\n",
        "    <td><a href=\"ref_string_startswith.asp\">startswith()</a></td><td>Returns true if \n",
        "    the string starts with the specified value</td>\n",
        "  </tr>\n",
        "  <tr>\n",
        "    <td><a href=\"ref_string_strip.asp\">strip()</a></td><td>Returns a trimmed version of the string</td>\n",
        "  </tr>\n",
        "  <tr>\n",
        "    <td><a href=\"ref_string_swapcase.asp\">swapcase()</a></td><td>Swaps cases, lower \n",
        "    case becomes upper case and vice versa</td>\n",
        "  </tr>\n",
        "  <tr>\n",
        "    <td><a href=\"ref_string_title.asp\">title()</a></td><td>Converts the first \n",
        "    character of each word to upper case</td>\n",
        "  </tr>\n",
        "  <tr>\n",
        "    <td><a href=\"ref_string_translate.asp\">translate()</a></td><td>Returns a \n",
        "    translated string</td>\n",
        "  </tr>\n",
        "  <tr>\n",
        "    <td><a href=\"ref_string_upper.asp\">upper()</a></td><td>Converts a string \n",
        "    into upper case</td>\n",
        "  </tr>\n",
        "<tr><td><a href=\"ref_string_zfill.asp\">zfill()</a></td><td>Fills the string with \n",
        "  a specified number of 0 values at the beginning</td></tr>\n",
        "</tbody></table>"
      ],
      "metadata": {
        "id": "D2xL6uoe0g6F"
      }
    },
    {
      "cell_type": "markdown",
      "source": [
        "## Çıktı Formatlama\n",
        " \n",
        "Yazdıracağımız cümlenin belli yerlerine değişlenler eklemek isteyebiliriz. Bunu iki yolla yapabiliriz;"
      ],
      "metadata": {
        "id": "9d6gFL-6UeFH"
      }
    },
    {
      "cell_type": "markdown",
      "source": [
        "###format() metodu\n",
        "\n",
        "Değişkenlerin geleceği yerler stringin içerisinde süslü parantezlerle belirlenir ({}). Daha sonra değişlenler format() metodu ile yerleştirilir."
      ],
      "metadata": {
        "id": "yxXox-omVI26"
      }
    },
    {
      "cell_type": "code",
      "source": [
        "a = 80\n",
        "b = 20"
      ],
      "metadata": {
        "id": "T6-Ezn3wVDnd"
      },
      "execution_count": null,
      "outputs": []
    },
    {
      "cell_type": "code",
      "source": [
        "birStr = \"Şirket gelirinin %{}'i, müşterilerimizin %{}'sinden gelmektedir \"\n",
        "print(birStr)"
      ],
      "metadata": {
        "colab": {
          "base_uri": "https://localhost:8080/"
        },
        "id": "XfRez8miVeKK",
        "outputId": "ecf47b72-c710-46de-ec2b-1bed4a4d9f04"
      },
      "execution_count": null,
      "outputs": [
        {
          "output_type": "stream",
          "name": "stdout",
          "text": [
            "Şirket gelirinin %{}'i, müşterilerimizin %{}'sinden gelmektedir \n"
          ]
        }
      ]
    },
    {
      "cell_type": "code",
      "source": [
        "print(birStr.format(a,b))"
      ],
      "metadata": {
        "colab": {
          "base_uri": "https://localhost:8080/"
        },
        "id": "SyajMD6xV_rU",
        "outputId": "11a64d8c-fa35-41c5-ede8-0264a9942d61"
      },
      "execution_count": null,
      "outputs": [
        {
          "output_type": "stream",
          "name": "stdout",
          "text": [
            "Şirket gelirinin %80'i, müşterilerimizin %20'sinden gelmektedir \n"
          ]
        }
      ]
    },
    {
      "cell_type": "markdown",
      "source": [
        "### fStringler\n",
        "\n",
        "string ifadesinin önüne bir `f` harfi konur. Değişkenler, süslü parantezler içerisine string ifadesine eklenebilir."
      ],
      "metadata": {
        "id": "CNpc8kMGVOHf"
      }
    },
    {
      "cell_type": "code",
      "source": [
        "birStr = f\"Şirket gelirinin %{a}'i, müşterilerimizin %{b}'sinden gelmektedir \"\n",
        "print(birStr)"
      ],
      "metadata": {
        "colab": {
          "base_uri": "https://localhost:8080/"
        },
        "id": "9m-ZEbrUVQPj",
        "outputId": "917fa19e-9b5b-467f-b9e0-ee35590b5dd2"
      },
      "execution_count": null,
      "outputs": [
        {
          "output_type": "stream",
          "name": "stdout",
          "text": [
            "Şirket gelirinin %80'i, müşterilerimizin %20'sinden gelmektedir \n"
          ]
        }
      ]
    },
    {
      "cell_type": "markdown",
      "source": [
        "##Çalışma\n",
        " Bir stringin sadece yarısını büyük harfe çevirin"
      ],
      "metadata": {
        "id": "5qGDlz5ei07i"
      }
    },
    {
      "cell_type": "code",
      "source": [],
      "metadata": {
        "id": "YUmA9H9NiWy7"
      },
      "execution_count": null,
      "outputs": []
    },
    {
      "cell_type": "markdown",
      "source": [
        "# 8) Karşılaştırma Operatörleri ve Koşul İfadeleri\n",
        "\n",
        "\n",
        "\n"
      ],
      "metadata": {
        "id": "vs2XPzt2cJfM"
      }
    },
    {
      "cell_type": "markdown",
      "source": [
        "\n",
        "\n",
        ">  **Karşılaştırma Operatörleri**\n",
        "\n",
        "\n",
        "\n",
        "- **İki sayıyı(değeri) karşılaştırmak için kullanılır.**\n",
        "- **Matematiksel karşılaştırmaları kod üzerinde yapmamızı sağlar.**"
      ],
      "metadata": {
        "id": "ZrmkrwhEnAnf"
      }
    },
    {
      "cell_type": "markdown",
      "source": [
        "![image.png](data:image/png;base64,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)"
      ],
      "metadata": {
        "id": "4YWR-_Qzt4BN"
      }
    },
    {
      "cell_type": "markdown",
      "source": [
        "\n",
        "\n",
        ">  **== Operatörü**\n",
        "\n",
        "\n",
        "\n",
        "- Eşittir Operatörü.\n",
        "- İki değerin birbirine eşit olup olmadığını kontrol etmemizi sağlar."
      ],
      "metadata": {
        "id": "f9bbAbM_t_7v"
      }
    },
    {
      "cell_type": "code",
      "source": [
        "x = 10\n",
        "print (x == 10)"
      ],
      "metadata": {
        "colab": {
          "base_uri": "https://localhost:8080/"
        },
        "id": "1jiJSEdgm0Vj",
        "outputId": "73ac30b7-e850-45d4-aeea-fc134e61bc82"
      },
      "execution_count": null,
      "outputs": [
        {
          "output_type": "stream",
          "name": "stdout",
          "text": [
            "True\n"
          ]
        }
      ]
    },
    {
      "cell_type": "code",
      "source": [
        "x = 10\n",
        "print (x == 5)"
      ],
      "metadata": {
        "colab": {
          "base_uri": "https://localhost:8080/"
        },
        "id": "pg38dCEhm0Xl",
        "outputId": "47d458c2-c350-4692-c232-e4efef39470c"
      },
      "execution_count": null,
      "outputs": [
        {
          "output_type": "stream",
          "name": "stdout",
          "text": [
            "False\n"
          ]
        }
      ]
    },
    {
      "cell_type": "markdown",
      "source": [
        "\n",
        "\n",
        ">  **!= Operatörü**\n",
        "\n",
        "- Eşit Değildir Operatörü.\n",
        "- İki değerin birbirinden farklı olup olmadığını kontrol etmemizi sağlar.\n",
        "\n"
      ],
      "metadata": {
        "id": "romz1IuKuODv"
      }
    },
    {
      "cell_type": "code",
      "source": [
        "x = 10\n",
        "print (x != 10)"
      ],
      "metadata": {
        "colab": {
          "base_uri": "https://localhost:8080/"
        },
        "id": "03_aWhutm0Zl",
        "outputId": "38b3398a-0230-4181-b364-8d4487b45da9"
      },
      "execution_count": null,
      "outputs": [
        {
          "output_type": "stream",
          "name": "stdout",
          "text": [
            "False\n"
          ]
        }
      ]
    },
    {
      "cell_type": "markdown",
      "source": [
        "\n",
        "\n",
        ">  **> Operatörü**\n",
        "\n",
        "- Büyüktür Operatörü.\n",
        "- İlk yazılan değerin, ikinci değerden büyük olup olmadığını kontrol eder.\n",
        "\n"
      ],
      "metadata": {
        "id": "fefu6-HcuU5T"
      }
    },
    {
      "cell_type": "code",
      "source": [
        "x = 10\n",
        "print (x > 15)"
      ],
      "metadata": {
        "colab": {
          "base_uri": "https://localhost:8080/"
        },
        "id": "4Yvwfzrrm0bN",
        "outputId": "da23d96b-514a-457e-8d67-f8648eb5ff95"
      },
      "execution_count": null,
      "outputs": [
        {
          "output_type": "stream",
          "name": "stdout",
          "text": [
            "False\n"
          ]
        }
      ]
    },
    {
      "cell_type": "markdown",
      "source": [
        "\n",
        "\n",
        ">  **>= Operatörü**\n",
        "\n",
        "- Büyüktür veya Eşittir Operatörü.\n",
        "- İlk yazılan değerin, ikinci değerden büyük veya ikinci değere eşit olup olmadığını kontrol etmemizi sağlar.\n",
        "\n"
      ],
      "metadata": {
        "id": "UBhUpENXubSN"
      }
    },
    {
      "cell_type": "code",
      "source": [
        "x = 10\n",
        "print (x >= 15)"
      ],
      "metadata": {
        "colab": {
          "base_uri": "https://localhost:8080/"
        },
        "id": "s601z0Iqm0dy",
        "outputId": "0719a8e1-2229-4fb4-f738-05bfca7b4579"
      },
      "execution_count": null,
      "outputs": [
        {
          "output_type": "stream",
          "name": "stdout",
          "text": [
            "False\n"
          ]
        }
      ]
    },
    {
      "cell_type": "markdown",
      "source": [
        "\n",
        "\n",
        ">  < **Operatörü**\n",
        "\n",
        "- Küçüktür Operatörü.\n",
        "- İlk yazılan değerin, ikinci değerden küçük olup olmadığını kontrol eder.\n",
        "\n"
      ],
      "metadata": {
        "id": "pXMWGlaluj67"
      }
    },
    {
      "cell_type": "code",
      "source": [
        "x = 10\n",
        "print (x < 10)"
      ],
      "metadata": {
        "colab": {
          "base_uri": "https://localhost:8080/"
        },
        "id": "4tHy1gwUm0fO",
        "outputId": "e6ff1576-5548-4eb9-8f55-2b0a69fc97c6"
      },
      "execution_count": null,
      "outputs": [
        {
          "output_type": "stream",
          "name": "stdout",
          "text": [
            "False\n"
          ]
        }
      ]
    },
    {
      "cell_type": "markdown",
      "source": [
        "\n",
        "\n",
        ">  <**= Operatörü**\n",
        "\n",
        "- Küçüktür veya Eşittir Operatörü.\n",
        "- İlk yazılan değerin, ikinci değerden küçük veya ikinci değere eşit olup olmadığını kontrol etmemizi sağlar.\n",
        "\n"
      ],
      "metadata": {
        "id": "_og5A3GUusAv"
      }
    },
    {
      "cell_type": "code",
      "source": [
        "x = 10\n",
        "print (x <= 10)"
      ],
      "metadata": {
        "colab": {
          "base_uri": "https://localhost:8080/"
        },
        "id": "ty7PttCZm0hZ",
        "outputId": "bf3f0364-c419-458a-f86b-05ade4d2d2dc"
      },
      "execution_count": null,
      "outputs": [
        {
          "output_type": "stream",
          "name": "stdout",
          "text": [
            "True\n"
          ]
        }
      ]
    },
    {
      "cell_type": "markdown",
      "source": [
        "\n",
        "\n",
        ">  **Karşılaştırma Operatörlerini Zincirleyerek Kullanma:**\n",
        "\n",
        "Çok sayıda değerin, birden fazla operatör kullanılarak zincirlenmesi\n",
        "\n"
      ],
      "metadata": {
        "id": "wCqEzm5Su3jy"
      }
    },
    {
      "cell_type": "code",
      "source": [
        "a = 1\n",
        "b = 2\n",
        "c = 3\n",
        "d = 4\n",
        "print (a < b < c < d)\n",
        "print (a < b < d > c)\n",
        "print (a < d > b < c)\n",
        "print (a < b < d < c)\n",
        "print (d < a < b < c)"
      ],
      "metadata": {
        "colab": {
          "base_uri": "https://localhost:8080/"
        },
        "id": "MMb74Pxeupnn",
        "outputId": "78b316c6-a8e1-4ff5-f0f2-6e0e6c12be99"
      },
      "execution_count": null,
      "outputs": [
        {
          "output_type": "stream",
          "name": "stdout",
          "text": [
            "True\n",
            "True\n",
            "True\n",
            "False\n",
            "False\n"
          ]
        }
      ]
    },
    {
      "cell_type": "code",
      "source": [
        "a = 1\n",
        "'''\n",
        "- 'a' olarak isimlendirdiğim bir değişken yarattım.\n",
        "- 'a' değişkenine 1 sayısını atadım.\n",
        "'''\n",
        "b = 2\n",
        "'''\n",
        "- 'b' olarak isimlendirdiğim bir değişken yarattım.\n",
        "- 'b' değişkenine 2 sayısını atadım.\n",
        "'''\n",
        "c = 3\n",
        "'''\n",
        "- 'c' olarak isimlendirdiğim bir değişken yarattım.\n",
        "- 'c' değişkenine 3 sayısını atadım.\n",
        "'''\n",
        "d = 4\n",
        "'''\n",
        "- 'd' olarak isimlendirdiğim bir değişken yarattım.\n",
        "- 'd' değişkenine 4 sayısını atadım.\n",
        "'''\n",
        "print (a < b < c < d)  # (a < b) ve (b < c) ve (c < d)\n",
        "'''\n",
        "Aslında 3 karşılaştırma ifadesini kontrol ediyor.\n",
        "- (a < b)\n",
        "- (b < c)\n",
        "- (c < d)\n",
        "Eğer bu 3 ifadenin de sonucu doğru yani \"True\" ise\n",
        "genel ifadenin de sonucu \"True\" oluyor.\n",
        "Farklı ifade şekli:\n",
        "(a < b) == (b < c) == (c < d) == True\n",
        "Son ifade de görülmekte.\n",
        "'''\n",
        "print (a < b < d > c)  # (a < b) ve (b < d) ve (d > c)\n",
        "print (a < d > b < c)  # (a < d) ve (d > b) ve (b < c)\n",
        "print (a < b < d < c)  # (a < b) ve (b < d) ve (d < c)\n",
        "print (d < a < b < c)  # (d < a) ve (a < b) ve (b < c)\n",
        "print ((a < b) == (b < c) == (c < d) == True)\n",
        "'''\n",
        "Çıktıda görüldüğü üzere son ifade ile ilk ifadenin sonucu aynı.\n",
        "'''"
      ],
      "metadata": {
        "colab": {
          "base_uri": "https://localhost:8080/",
          "height": 139
        },
        "id": "VeE9iE7zupp7",
        "outputId": "a80dc903-6ff8-4d5f-f39b-afe6d320b924"
      },
      "execution_count": null,
      "outputs": [
        {
          "output_type": "stream",
          "name": "stdout",
          "text": [
            "True\n",
            "True\n",
            "True\n",
            "False\n",
            "False\n",
            "True\n"
          ]
        },
        {
          "output_type": "execute_result",
          "data": {
            "text/plain": [
              "'\\nÇıktıda görüldüğü üzere son ifade ile ilk ifadenin sonucu aynı.\\n'"
            ],
            "application/vnd.google.colaboratory.intrinsic+json": {
              "type": "string"
            }
          },
          "metadata": {},
          "execution_count": 94
        }
      ]
    },
    {
      "cell_type": "markdown",
      "source": [
        "\n",
        "\n",
        ">  **Koşul İfadeleri (if…, elif…, else…)**\n",
        "\n",
        "- Yazdığımız kodları belli koşullarda çalıştırmamızı sağlar.\n",
        "- Koşulları belirlemek için Karşılaştırma Operatörleri kullanılır.\n",
        "\n"
      ],
      "metadata": {
        "id": "oZ3m8y_jvI4l"
      }
    },
    {
      "cell_type": "markdown",
      "source": [
        "\n",
        "\n",
        "> **if Koşul İfadesi:**\n",
        "\n",
        "\n",
        "\n",
        "- Eğer anlamına gelen “if” İfadesi, ardından yazılan koşul True(doğru) olduğunda altında yazılan kod grubunu çalıştırır.\n",
        "- Python yazdığımız kodu çalıştırmak için belli standartlar belirler. (Syntax)\n",
        "- “if” ifadesi altında yazdığımız kod grubunu çalıştırmak için, bu kod grubunun başına <tab> boşluğu yazmamız gerekir."
      ],
      "metadata": {
        "id": "1LVt1g2AvRSd"
      }
    },
    {
      "cell_type": "code",
      "source": [
        "x = 5\n",
        "if x == 5:\n",
        "\tprint (\"if Koşul İfadesi Çalıştı.\") # Bu satırın başında <tab> bulunuyor\n",
        "print (\"if Koşul İfadesi Dışında Bulunan Kod.\") # Bu satırın başında <tab> bulunmuyor"
      ],
      "metadata": {
        "colab": {
          "base_uri": "https://localhost:8080/"
        },
        "id": "-3bVaW71upsE",
        "outputId": "ca87401a-dc5d-4e19-fe9e-6f0c8e67b07b"
      },
      "execution_count": null,
      "outputs": [
        {
          "output_type": "stream",
          "name": "stdout",
          "text": [
            "if Koşul İfadesi Çalıştı.\n",
            "if Koşul İfadesi Dışında Bulunan Kod.\n"
          ]
        }
      ]
    },
    {
      "cell_type": "markdown",
      "source": [
        "\n",
        "\n",
        "> **if…else Koşul İfadesi:**\n",
        "\n",
        "- “if” koşul ifadesinin içerisinde yazılı olan koşul ifadesi False(Yanlış) olduğu durumlarda, kod grubu çalıştırmak istediğimizde “if” bloğunun devamına “else” ifadesi ekleriz.\n",
        "- “if” koşul ifadesinde yaptığımız gibi, “else” ifadesinin altında yazacağımız kod grubu için de, <tab> boşluğu bırakmamız gerekir.\n",
        "- “else” ifadesi, “if” ifadesi ile dikey olarak aynı seviyede olmak zorundadır.\n",
        "\n"
      ],
      "metadata": {
        "id": "-sx8Vyy0v1SQ"
      }
    },
    {
      "cell_type": "code",
      "source": [
        "x = 5\n",
        "if x == 5:\n",
        "\tprint (\"if Koşul İfadesi Çalıştı.\") # Bu satırın başında <tab> bulunuyor\n",
        "else:\n",
        "\tprint (\"else Koşul İfadesi Çalıştı.\") # Bu satırın başında <tab> bulunuyor\n",
        "print (\"if Koşul İfadesi Dışında Bulunan Kod.\") # Bu satırın başında <tab> bulunmuyor"
      ],
      "metadata": {
        "colab": {
          "base_uri": "https://localhost:8080/"
        },
        "id": "W_-vLESJupva",
        "outputId": "ef4f7ea8-ed8b-4392-fd57-42e75f2ea636"
      },
      "execution_count": null,
      "outputs": [
        {
          "output_type": "stream",
          "name": "stdout",
          "text": [
            "if Koşul İfadesi Çalıştı.\n",
            "if Koşul İfadesi Dışında Bulunan Kod.\n"
          ]
        }
      ]
    },
    {
      "cell_type": "markdown",
      "source": [
        "\n",
        "\n",
        ">  **if…elif…else Koşul İfadesi:**\n",
        "\n",
        "- “if” koşul ifadesi True(Doğru) ise altında yazmış olduğumuz kod grubu çalışır.\n",
        "- “if” koşul ifadesi False(Yanlış) ise “elif” koşul ifadesi kontrol edilir.\n",
        "- “elif” koşul ifadesi True(Doğru) ise altında yazmış olduğumuz kod grubu çalışır.\n",
        "- “elif” koşul ifadesi False(Yanlış) ise “else” koşul ifadesinin altında yazmış olduğumuz kod grubu çalışır.\n",
        "\n"
      ],
      "metadata": {
        "id": "sGgOMZv6wERw"
      }
    },
    {
      "cell_type": "code",
      "source": [
        "x = 4\n",
        "if x < 5:\n",
        "\tprint (\"if Koşul İfadesi Çalıştı.\") # Bu satırın başında <tab> bulunuyor\n",
        "elif x == 5:\n",
        "\tprint (\"elif Koşul İfadesi Çalıştı.\") # Bu satırın başında <tab> bulunuyor\n",
        "else:\n",
        "\tprint (\"else Koşul İfadesi Çalıştı.\") # Bu satırın başında <tab> bulunuyor\n",
        "print (\"Program Kodu Devam Eder.\") # Bu satırın başında <tab> bulunmuyor"
      ],
      "metadata": {
        "colab": {
          "base_uri": "https://localhost:8080/"
        },
        "id": "fRzKbIf2upxF",
        "outputId": "23c442cb-ef42-4fc9-99d5-76698ed3b22f"
      },
      "execution_count": null,
      "outputs": [
        {
          "output_type": "stream",
          "name": "stdout",
          "text": [
            "if Koşul İfadesi Çalıştı.\n",
            "Program Kodu Devam Eder.\n"
          ]
        }
      ]
    },
    {
      "cell_type": "markdown",
      "source": [
        "# 9) Döngüler"
      ],
      "metadata": {
        "id": "7l8pwRjPwiWj"
      }
    },
    {
      "cell_type": "markdown",
      "source": [
        "\n",
        "\n",
        "> **While Döngüsü**\n",
        "- Yazdığımız kodların belli koşula dayalı olarak sürekli çalışmasını sağlar.\n",
        "- “while” koşul ifadesi True(Doğru) ise altında yazılı olan kodu çalıştırır, ve tekrar koşul ifadesini kontrol eder.\n",
        "- “while” koşul ifadesi False(Yanlış) ise altında yazılı olan kodu atlar ve program kodu kaldığı yerden devam eder.\n"
      ],
      "metadata": {
        "id": "dYurdarQw9_t"
      }
    },
    {
      "cell_type": "markdown",
      "source": [
        "![image.png](data:image/png;base64,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)"
      ],
      "metadata": {
        "id": "5kZgB9W-xI4A"
      }
    },
    {
      "cell_type": "code",
      "source": [
        "x = 0 # x isimli bir değişken yarattım ve 0'a eşitledim.\n",
        "while x < 5: # x değişkeni 5 sayısından küçük ise alttaki kodu çalıştırır.\n",
        "\tprint (\"x = \", x) # x değişkeninin değerini console'a yazdırır.\n",
        "\tx = x + 1 # x değişkenine 1 ekler ve x değişkenine yeni değeri eşitler.\n",
        "print (\"Döngü Tamamlandı.\") \n",
        "print (\"x = \", x)"
      ],
      "metadata": {
        "colab": {
          "base_uri": "https://localhost:8080/"
        },
        "id": "50SYI33Pupyz",
        "outputId": "13f272f4-b541-49a3-9e14-cb28eb40ced1"
      },
      "execution_count": null,
      "outputs": [
        {
          "output_type": "stream",
          "name": "stdout",
          "text": [
            "x =  0\n",
            "x =  1\n",
            "x =  2\n",
            "x =  3\n",
            "x =  4\n",
            "Döngü Tamamlandı.\n",
            "x =  5\n"
          ]
        }
      ]
    },
    {
      "cell_type": "code",
      "source": [
        "x = 0 # x isimli bir değişken yarattım ve 0'a eşitledim.\n",
        "while x < 5: # x değişkeni 5 sayısından küçük ise alttaki kodu çalıştırır.\n",
        "\tprint (\"x = \", x) # x değişkeninin değerini console'a yazdırır.\n",
        "print (\"Döngü Tamamlandı.\") \n",
        "print (\"x = \", x)"
      ],
      "metadata": {
        "id": "eGZ2hEFKup0t"
      },
      "execution_count": null,
      "outputs": []
    },
    {
      "cell_type": "markdown",
      "source": [
        "Yukarıdaki örnek çalıştığı durumda, konsol üzerinde sürekli olarak x = 0 yazılı olduğunu göreceğiz ve bu sonsuza dek devam edecek. Bunun sebebi, “while” ifadesinin koşul olan x değişkeninin 5 sayısından küçük olması ve x değerinin sürekli olarak 0 olması. İlk örnekte görüldüğü üzere “while” ifadesinin altında yazılı olan kod grubunda x = x + 1 şeklinde bir satır bulunur. Bu satır x değişkeninin 1 artmasını sağlar. “while” ifadesi her koşulu kontrol ettiği sefer, x değişkeni artar ve 5 olduğunda döngüden çıkılmış olur."
      ],
      "metadata": {
        "id": "e_XYfW4Zxref"
      }
    },
    {
      "cell_type": "markdown",
      "source": [
        "\n",
        "\n",
        "> **for Döngüsü**\n",
        "\n",
        "- Belirli bir koşul belirtmeden kodun sürekli yinelenmesini sağlamak için for döngüsü kullanılır.\n",
        "\n"
      ],
      "metadata": {
        "id": "pxzEPsDGxxtI"
      }
    },
    {
      "cell_type": "code",
      "source": [
        "yazilim_dilleri=['Java','C#','Python','C++']\n",
        "\n",
        "for i in yazilim_dilleri:\n",
        "  print(i)"
      ],
      "metadata": {
        "id": "rq2gGhGIxjic",
        "colab": {
          "base_uri": "https://localhost:8080/"
        },
        "outputId": "e8aff8d8-e9e5-4dcf-a25a-fab38cd21c00"
      },
      "execution_count": 1,
      "outputs": [
        {
          "output_type": "stream",
          "name": "stdout",
          "text": [
            "Java\n",
            "C#\n",
            "Python\n",
            "C++\n"
          ]
        }
      ]
    },
    {
      "cell_type": "code",
      "source": [
        "for i in 'PYTHON':\n",
        "  print(i)"
      ],
      "metadata": {
        "id": "xNGbuhrAxjk2",
        "colab": {
          "base_uri": "https://localhost:8080/"
        },
        "outputId": "dd9b2524-bdc5-4242-d99f-245848d0a0d3"
      },
      "execution_count": 2,
      "outputs": [
        {
          "output_type": "stream",
          "name": "stdout",
          "text": [
            "P\n",
            "Y\n",
            "T\n",
            "H\n",
            "O\n",
            "N\n"
          ]
        }
      ]
    },
    {
      "cell_type": "markdown",
      "source": [
        "\n",
        "\n",
        "> **break fonksiyonu ile döngüyü istediğimiz yerde sonlandırabiliriz.**\n",
        "\n"
      ],
      "metadata": {
        "id": "BuWslTFMyAxT"
      }
    },
    {
      "cell_type": "code",
      "source": [
        "for i in yazilim_dilleri:\n",
        "  print(i)\n",
        "  if i=='Python':\n",
        "    break"
      ],
      "metadata": {
        "id": "2I7GvJOwxjqR",
        "colab": {
          "base_uri": "https://localhost:8080/"
        },
        "outputId": "f9e1c0b8-d005-4ec0-d49b-07ac2c8dff1a"
      },
      "execution_count": 3,
      "outputs": [
        {
          "output_type": "stream",
          "name": "stdout",
          "text": [
            "Java\n",
            "C#\n",
            "Python\n"
          ]
        }
      ]
    },
    {
      "cell_type": "markdown",
      "source": [
        "\n",
        "\n",
        "> **range() kullanarak bir aralık belirterek döngü oluşturabiliriz.**\n",
        "\n"
      ],
      "metadata": {
        "id": "7i5zJL1_PyHV"
      }
    },
    {
      "cell_type": "code",
      "source": [
        "for x in range(5):\n",
        "  toplam=x+x\n",
        "  print(toplam) "
      ],
      "metadata": {
        "id": "Kd686KvzxjsO",
        "colab": {
          "base_uri": "https://localhost:8080/"
        },
        "outputId": "ff4d8010-be53-4fa4-d6ad-c45bb02042ff"
      },
      "execution_count": 5,
      "outputs": [
        {
          "output_type": "stream",
          "name": "stdout",
          "text": [
            "0\n",
            "2\n",
            "4\n",
            "6\n",
            "8\n"
          ]
        }
      ]
    },
    {
      "cell_type": "markdown",
      "source": [
        "\n",
        "\n",
        "> **Artış değerini belirterek ve kaça kadar artması gerektiğini belirterek döngü yazabiliriz.**\n",
        "\n"
      ],
      "metadata": {
        "id": "51DUaj25QeP9"
      }
    },
    {
      "cell_type": "code",
      "source": [
        "for i in range(1,21,2):\n",
        "  print(i)"
      ],
      "metadata": {
        "id": "td2plXWQxjv7",
        "colab": {
          "base_uri": "https://localhost:8080/"
        },
        "outputId": "bbeadb96-7d0c-4525-cf08-6400d06c3121"
      },
      "execution_count": 7,
      "outputs": [
        {
          "output_type": "stream",
          "name": "stdout",
          "text": [
            "1\n",
            "3\n",
            "5\n",
            "7\n",
            "9\n",
            "11\n",
            "13\n",
            "15\n",
            "17\n",
            "19\n"
          ]
        }
      ]
    },
    {
      "cell_type": "markdown",
      "source": [
        "# **UYGULAMALAR**"
      ],
      "metadata": {
        "id": "dIOEZDb4RLG3"
      }
    },
    {
      "cell_type": "markdown",
      "source": [
        "### Yaşa göre kişinin ehliyet alıp alamayacığını belirten programı yazınız."
      ],
      "metadata": {
        "id": "pWIqtXtyV20D"
      }
    },
    {
      "cell_type": "code",
      "source": [
        "yas = input('Yaşınız : ')\n",
        "if(int(yas)<18):\n",
        "      print(\"Yaşınız Ehliyet almak İçin Uygun Değil\")\n",
        "else:\n",
        "      print(\"Yaşınız Ehliyet almak İçin Uygun\")"
      ],
      "metadata": {
        "colab": {
          "base_uri": "https://localhost:8080/"
        },
        "id": "OpNzrF2YWEhC",
        "outputId": "42cce907-1b8d-417d-f060-e6e167563cfc"
      },
      "execution_count": 18,
      "outputs": [
        {
          "output_type": "stream",
          "name": "stdout",
          "text": [
            "Yaşınız : 55\n",
            "Yaşınız Ehliyet almak İçin Uygun\n"
          ]
        }
      ]
    },
    {
      "cell_type": "markdown",
      "source": [
        "### Kullanıcıdan kenar uzunlukları alınan dikdörtgenin alanı ve çevresini bulan programı yazınız."
      ],
      "metadata": {
        "id": "2rYZ4dwmU7IM"
      }
    },
    {
      "cell_type": "code",
      "source": [
        "kisa=input('Kısa Kenar : ')\n",
        "uzun=input('Uzun Kenar : ')\n",
        "alan=int(kisa)*int(uzun)\n",
        "cevre=2*(int(kisa)+int(uzun))\n",
        "print(\"Alan : {0}\".format(alan))\n",
        "print(\"Çevre : {0}\".format(cevre))"
      ],
      "metadata": {
        "colab": {
          "base_uri": "https://localhost:8080/"
        },
        "id": "-WfEkhtQTAzq",
        "outputId": "5dde3ddd-b21f-4938-b01d-c5c2b5f9751b"
      },
      "execution_count": 19,
      "outputs": [
        {
          "output_type": "stream",
          "name": "stdout",
          "text": [
            "Kısa Kenar : 5\n",
            "Uzun Kenar : 3\n",
            "Alan : 15\n",
            "Çevre : 16\n"
          ]
        }
      ]
    },
    {
      "cell_type": "markdown",
      "source": [
        "### 0'dan 10'a kadar 2 ve 3'e bölünebilen sayıları yazdıran programı yazınız."
      ],
      "metadata": {
        "id": "6GYMwKbyTZZ6"
      }
    },
    {
      "cell_type": "code",
      "source": [
        "x = 1\n",
        "while x < 10:\n",
        "\tif x % 2 == 0:\n",
        "\t\tprint (\"2 ile bölünebilen sayı=\", x)\n",
        "\telif x % 3 == 0:\n",
        "\t\tprint (\"3 ile bölünebilen sayı=\", x)\n",
        "\tx+=1"
      ],
      "metadata": {
        "colab": {
          "base_uri": "https://localhost:8080/"
        },
        "id": "wdQ5ULmxTBOP",
        "outputId": "e16f1916-7208-428e-e380-eb3a61d84615"
      },
      "execution_count": 11,
      "outputs": [
        {
          "output_type": "stream",
          "name": "stdout",
          "text": [
            "2 ile bölünebilen sayı= 2\n",
            "3 ile bölünebilen sayı= 3\n",
            "2 ile bölünebilen sayı= 4\n",
            "2 ile bölünebilen sayı= 6\n",
            "2 ile bölünebilen sayı= 8\n",
            "3 ile bölünebilen sayı= 9\n"
          ]
        }
      ]
    },
    {
      "cell_type": "markdown",
      "source": [
        "### Verilen dizideki sayının tek mi çift mi olduğunu belirten programı yazınız."
      ],
      "metadata": {
        "id": "r0RxsjC6RYyx"
      }
    },
    {
      "cell_type": "code",
      "source": [
        "dizi=[0,1,2,3,4,5,6,7,8,9,10]\n",
        "for i in dizi:\n",
        "  if i%2==0:\n",
        "    print(i, 'sayısı çift sayıdır.')\n",
        "  else:\n",
        "    print(i, 'sayısı tek sayıdır.')"
      ],
      "metadata": {
        "id": "n_Rp0Ij2xjxM",
        "colab": {
          "base_uri": "https://localhost:8080/"
        },
        "outputId": "ee0001fe-5294-42ef-c2ac-cf011345b9d1"
      },
      "execution_count": 8,
      "outputs": [
        {
          "output_type": "stream",
          "name": "stdout",
          "text": [
            "0 sayısı çift sayıdır.\n",
            "1 sayısı tek sayıdır.\n",
            "2 sayısı çift sayıdır.\n",
            "3 sayısı tek sayıdır.\n",
            "4 sayısı çift sayıdır.\n",
            "5 sayısı tek sayıdır.\n",
            "6 sayısı çift sayıdır.\n",
            "7 sayısı tek sayıdır.\n",
            "8 sayısı çift sayıdır.\n",
            "9 sayısı tek sayıdır.\n",
            "10 sayısı çift sayıdır.\n"
          ]
        }
      ]
    },
    {
      "cell_type": "markdown",
      "source": [
        "## 5'ten başlayarak 20'ye kadar 3'er artış sağlayan programı yazınız. "
      ],
      "metadata": {
        "id": "_WpLQ7TLR-tJ"
      }
    },
    {
      "cell_type": "code",
      "source": [
        "for i in range(5,20,3):\n",
        "  print(i)"
      ],
      "metadata": {
        "colab": {
          "base_uri": "https://localhost:8080/"
        },
        "id": "caNvVYrwR7wM",
        "outputId": "34c3436a-40ba-47e7-f220-bdfa8eecd840"
      },
      "execution_count": 9,
      "outputs": [
        {
          "output_type": "stream",
          "name": "stdout",
          "text": [
            "5\n",
            "8\n",
            "11\n",
            "14\n",
            "17\n"
          ]
        }
      ]
    }
  ]
}